{
 "cells": [
  {
   "cell_type": "markdown",
   "metadata": {},
   "source": [
    "![image info](https://raw.githubusercontent.com/albahnsen/MIAD_ML_and_NLP/main/images/banner_1.png)"
   ]
  },
  {
   "cell_type": "markdown",
   "metadata": {},
   "source": [
    "# Taller: Construcción e implementación de árboles de decisión y métodos de ensamblaje\n",
    "\n",
    "En este taller podrá poner en práctica los sus conocimientos sobre construcción e implementación de árboles de decisión y métodos de ensamblajes. El taller está constituido por 9 puntos, 5 relacionados con árboles de decisión (parte A) y 4 con métodos de ensamblaje (parte B).\n",
    "\n",
    "\n",
    "\n",
    "\n",
    "Elaborado por: Wilson Andrey Lopez Ariza\n",
    "\n"
   ]
  },
  {
   "cell_type": "markdown",
   "metadata": {},
   "source": [
    "## Parte A - Árboles de decisión\n",
    "\n",
    "En esta parte del taller se usará el conjunto de datos de Capital Bikeshare de Kaggle, donde cada observación representa el alquiler de bicicletas durante una hora y día determinado. Para más detalles puede visitar los siguientes enlaces: [datos](https://archive.ics.uci.edu/ml/machine-learning-databases/00275/Bike-Sharing-Dataset.zip), [dicccionario de datos](https://archive.ics.uci.edu/ml/datasets/Bike+Sharing+Dataset#)."
   ]
  },
  {
   "cell_type": "markdown",
   "metadata": {},
   "source": [
    "### Datos prestamo de bicicletas"
   ]
  },
  {
   "cell_type": "code",
   "execution_count": 1,
   "metadata": {},
   "outputs": [],
   "source": [
    "import warnings\n",
    "warnings.filterwarnings('ignore')"
   ]
  },
  {
   "cell_type": "code",
   "execution_count": 2,
   "metadata": {},
   "outputs": [],
   "source": [
    "# Importación de librerías\n",
    "%matplotlib inline\n",
    "import pandas as pd\n",
    "import numpy as np\n",
    "from sklearn.model_selection import cross_val_score\n",
    "\n",
    "from sklearn.model_selection import train_test_split\n",
    "from sklearn.linear_model import LinearRegression\n",
    "from sklearn.linear_model import LogisticRegression\n",
    "\n",
    "\n",
    "from sklearn.tree import DecisionTreeRegressor, export_graphviz\n",
    "from sklearn.tree import DecisionTreeClassifier\n",
    "from sklearn.tree import plot_tree\n",
    "\n",
    "from sklearn.preprocessing import StandardScaler\n",
    "from sklearn.metrics import accuracy_score\n",
    "from sklearn.metrics import f1_score\n",
    "from sklearn.metrics import roc_auc_score\n",
    "from sklearn.metrics import confusion_matrix\n",
    "from sklearn.metrics import precision_score\n"
   ]
  },
  {
   "cell_type": "code",
   "execution_count": 3,
   "metadata": {},
   "outputs": [
    {
     "data": {
      "text/html": [
       "<div>\n",
       "<style scoped>\n",
       "    .dataframe tbody tr th:only-of-type {\n",
       "        vertical-align: middle;\n",
       "    }\n",
       "\n",
       "    .dataframe tbody tr th {\n",
       "        vertical-align: top;\n",
       "    }\n",
       "\n",
       "    .dataframe thead th {\n",
       "        text-align: right;\n",
       "    }\n",
       "</style>\n",
       "<table border=\"1\" class=\"dataframe\">\n",
       "  <thead>\n",
       "    <tr style=\"text-align: right;\">\n",
       "      <th></th>\n",
       "      <th>season</th>\n",
       "      <th>holiday</th>\n",
       "      <th>workingday</th>\n",
       "      <th>weather</th>\n",
       "      <th>temp</th>\n",
       "      <th>atemp</th>\n",
       "      <th>humidity</th>\n",
       "      <th>windspeed</th>\n",
       "      <th>casual</th>\n",
       "      <th>registered</th>\n",
       "      <th>total</th>\n",
       "      <th>hour</th>\n",
       "    </tr>\n",
       "    <tr>\n",
       "      <th>datetime</th>\n",
       "      <th></th>\n",
       "      <th></th>\n",
       "      <th></th>\n",
       "      <th></th>\n",
       "      <th></th>\n",
       "      <th></th>\n",
       "      <th></th>\n",
       "      <th></th>\n",
       "      <th></th>\n",
       "      <th></th>\n",
       "      <th></th>\n",
       "      <th></th>\n",
       "    </tr>\n",
       "  </thead>\n",
       "  <tbody>\n",
       "    <tr>\n",
       "      <th>2011-01-01 00:00:00</th>\n",
       "      <td>1</td>\n",
       "      <td>0</td>\n",
       "      <td>0</td>\n",
       "      <td>1</td>\n",
       "      <td>9.84</td>\n",
       "      <td>14.395</td>\n",
       "      <td>81</td>\n",
       "      <td>0.0</td>\n",
       "      <td>3</td>\n",
       "      <td>13</td>\n",
       "      <td>16</td>\n",
       "      <td>0</td>\n",
       "    </tr>\n",
       "    <tr>\n",
       "      <th>2011-01-01 01:00:00</th>\n",
       "      <td>1</td>\n",
       "      <td>0</td>\n",
       "      <td>0</td>\n",
       "      <td>1</td>\n",
       "      <td>9.02</td>\n",
       "      <td>13.635</td>\n",
       "      <td>80</td>\n",
       "      <td>0.0</td>\n",
       "      <td>8</td>\n",
       "      <td>32</td>\n",
       "      <td>40</td>\n",
       "      <td>1</td>\n",
       "    </tr>\n",
       "    <tr>\n",
       "      <th>2011-01-01 02:00:00</th>\n",
       "      <td>1</td>\n",
       "      <td>0</td>\n",
       "      <td>0</td>\n",
       "      <td>1</td>\n",
       "      <td>9.02</td>\n",
       "      <td>13.635</td>\n",
       "      <td>80</td>\n",
       "      <td>0.0</td>\n",
       "      <td>5</td>\n",
       "      <td>27</td>\n",
       "      <td>32</td>\n",
       "      <td>2</td>\n",
       "    </tr>\n",
       "    <tr>\n",
       "      <th>2011-01-01 03:00:00</th>\n",
       "      <td>1</td>\n",
       "      <td>0</td>\n",
       "      <td>0</td>\n",
       "      <td>1</td>\n",
       "      <td>9.84</td>\n",
       "      <td>14.395</td>\n",
       "      <td>75</td>\n",
       "      <td>0.0</td>\n",
       "      <td>3</td>\n",
       "      <td>10</td>\n",
       "      <td>13</td>\n",
       "      <td>3</td>\n",
       "    </tr>\n",
       "    <tr>\n",
       "      <th>2011-01-01 04:00:00</th>\n",
       "      <td>1</td>\n",
       "      <td>0</td>\n",
       "      <td>0</td>\n",
       "      <td>1</td>\n",
       "      <td>9.84</td>\n",
       "      <td>14.395</td>\n",
       "      <td>75</td>\n",
       "      <td>0.0</td>\n",
       "      <td>0</td>\n",
       "      <td>1</td>\n",
       "      <td>1</td>\n",
       "      <td>4</td>\n",
       "    </tr>\n",
       "  </tbody>\n",
       "</table>\n",
       "</div>"
      ],
      "text/plain": [
       "                     season  holiday  workingday  weather  temp   atemp  \\\n",
       "datetime                                                                  \n",
       "2011-01-01 00:00:00       1        0           0        1  9.84  14.395   \n",
       "2011-01-01 01:00:00       1        0           0        1  9.02  13.635   \n",
       "2011-01-01 02:00:00       1        0           0        1  9.02  13.635   \n",
       "2011-01-01 03:00:00       1        0           0        1  9.84  14.395   \n",
       "2011-01-01 04:00:00       1        0           0        1  9.84  14.395   \n",
       "\n",
       "                     humidity  windspeed  casual  registered  total  hour  \n",
       "datetime                                                                   \n",
       "2011-01-01 00:00:00        81        0.0       3          13     16     0  \n",
       "2011-01-01 01:00:00        80        0.0       8          32     40     1  \n",
       "2011-01-01 02:00:00        80        0.0       5          27     32     2  \n",
       "2011-01-01 03:00:00        75        0.0       3          10     13     3  \n",
       "2011-01-01 04:00:00        75        0.0       0           1      1     4  "
      ]
     },
     "execution_count": 3,
     "metadata": {},
     "output_type": "execute_result"
    }
   ],
   "source": [
    "# Lectura de la información de archivo .csv\n",
    "bikes = pd.read_csv('https://raw.githubusercontent.com/davidzarruk/MIAD_ML_NLP_2023/main/datasets/bikeshare.csv', index_col='datetime', parse_dates=True)\n",
    "\n",
    "# Renombrar variable \"count\" a \"total\"\n",
    "bikes.rename(columns={'count':'total'}, inplace=True)\n",
    "\n",
    "# Crear la hora como una variable \n",
    "bikes['hour'] = bikes.index.hour\n",
    "bikes2=bikes\n",
    "# Visualización de los datos\n",
    "bikes.head()\n"
   ]
  },
  {
   "cell_type": "markdown",
   "metadata": {},
   "source": [
    "### Punto 1 - Análisis descriptivo\n",
    "\n",
    "Ejecute las celdas 1.1 y 1.2. A partir de los resultados realice un análisis descriptivo sobre las variables \"season\" y \"hour\", escriba sus inferencias sobre los datos. Para complementar su análisis puede usar métricas como máximo, mínimo, percentiles entre otros."
   ]
  },
  {
   "cell_type": "code",
   "execution_count": 4,
   "metadata": {},
   "outputs": [
    {
     "name": "stdout",
     "output_type": "stream",
     "text": [
      "season\n",
      "1    116.343261\n",
      "2    215.251372\n",
      "3    234.417124\n",
      "4    198.988296\n",
      "Name: total, dtype: float64\n",
      "count      4.000000\n",
      "mean     191.250013\n",
      "std       51.994766\n",
      "min      116.343261\n",
      "25%      178.327037\n",
      "50%      207.119834\n",
      "75%      220.042810\n",
      "max      234.417124\n",
      "Name: total, dtype: float64\n"
     ]
    }
   ],
   "source": [
    "# Celda 1.1\n",
    "bikes1a=bikes.groupby('season').total.mean()\n",
    "print(bikes1a)\n",
    "print(bikes1a.describe())"
   ]
  },
  {
   "cell_type": "markdown",
   "metadata": {},
   "source": [
    " <font color='green'>Teniendo en cuenta las cuatro estaciones, podemos observar que la mayor cantidad de bicicletas reportadas tanto registradas como casual, es decir en promedio del total por estacion, se dio en **verano**; por el contrario la menor cantidad de bicicletas reportada sucedio en invierno, podemos decir que en promedio se usan 191 bicicletas durante las estaciones. Claramente el clima influye directamente en el uso de la bicicleta como medio de transporte, a medida que baja la temperatrura cae el uso de este medio de transporte.</font>"
   ]
  },
  {
   "cell_type": "code",
   "execution_count": 5,
   "metadata": {},
   "outputs": [
    {
     "name": "stdout",
     "output_type": "stream",
     "text": [
      "hour\n",
      "0      55.138462\n",
      "1      33.859031\n",
      "2      22.899554\n",
      "3      11.757506\n",
      "4       6.407240\n",
      "5      19.767699\n",
      "6      76.259341\n",
      "7     213.116484\n",
      "8     362.769231\n",
      "9     221.780220\n",
      "10    175.092308\n",
      "11    210.674725\n",
      "12    256.508772\n",
      "13    257.787281\n",
      "14    243.442982\n",
      "15    254.298246\n",
      "16    316.372807\n",
      "17    468.765351\n",
      "18    430.859649\n",
      "19    315.278509\n",
      "20    228.517544\n",
      "21    173.370614\n",
      "22    133.576754\n",
      "23     89.508772\n",
      "Name: total, dtype: float64\n",
      "count     24.000000\n",
      "mean     190.742045\n",
      "std      133.245822\n",
      "min        6.407240\n",
      "25%       70.979121\n",
      "50%      211.895604\n",
      "75%      256.828399\n",
      "max      468.765351\n",
      "Name: total, dtype: float64\n"
     ]
    }
   ],
   "source": [
    "# Celda 1.2\n",
    "bikes1b=bikes.groupby('hour').total.mean()\n",
    "print(bikes1b)\n",
    "print(bikes1b.describe())"
   ]
  },
  {
   "cell_type": "markdown",
   "metadata": {},
   "source": [
    " <font color='green'> Se puede observar que entre las 11 de la noche y las 5 de la mañana se reporta la menor cantidad de uso de bicicletas, por lo que vemos que en el primer cuartil el uso de este medio transporte cae, en el tercer cuartil se reporta el mayor uso de este medio de transporte alcanzando una media maxima de 468 biciletasm, reportadas especifcamnete a las 5 de la tarde. en promedio cada hora se usan 190 bicicletas, la hora menos preferida en que se usa este medio es a las 4 de la mañana.</font>\n"
   ]
  },
  {
   "cell_type": "markdown",
   "metadata": {},
   "source": [
    "### Punto 2 - Análisis de gráficos\n",
    "\n",
    "Primero ejecute la celda 2.1 y asegúrese de comprender el código y el resultado. Luego, en cada una de celdas 2.2 y 2.3 escriba un código que genere una gráfica del número de bicicletas rentadas promedio para cada valor de la variable \"hour\" (hora) cuando la variable \"season\" es igual a 1 (invierno) e igual a 3 (verano), respectivamente. Analice y escriba sus hallazgos."
   ]
  },
  {
   "cell_type": "code",
   "execution_count": 6,
   "metadata": {},
   "outputs": [
    {
     "data": {
      "text/plain": [
       "<AxesSubplot:xlabel='hour'>"
      ]
     },
     "execution_count": 6,
     "metadata": {},
     "output_type": "execute_result"
    },
    {
     "data": {
      "image/png": "[encoded data removed]",
      "text/plain": [
       "<Figure size 640x480 with 1 Axes>"
      ]
     },
     "metadata": {},
     "output_type": "display_data"
    }
   ],
   "source": [
    "# Celda 2.1 - rentas promedio para cada valor de la variable \"hour\"\n",
    "bikes.groupby('hour').total.mean().plot()"
   ]
  },
  {
   "cell_type": "code",
   "execution_count": 7,
   "metadata": {},
   "outputs": [
    {
     "name": "stdout",
     "output_type": "stream",
     "text": [
      "count     24.000000\n",
      "mean     114.642351\n",
      "std       83.500331\n",
      "min        3.336634\n",
      "25%       39.117257\n",
      "50%      123.498253\n",
      "75%      159.508772\n",
      "max      283.456140\n",
      "Name: total, dtype: float64\n",
      "hour\n",
      "0      28.292035\n",
      "1      18.761062\n",
      "2      13.205607\n",
      "3       7.760417\n",
      "4       3.336634\n",
      "5      10.300000\n",
      "6      42.725664\n",
      "7     124.433628\n",
      "8     253.345133\n",
      "9     154.442478\n",
      "10    102.168142\n",
      "11    122.601770\n",
      "12    154.412281\n",
      "13    160.771930\n",
      "14    151.263158\n",
      "15    159.087719\n",
      "16    188.640351\n",
      "17    283.456140\n",
      "18    258.157895\n",
      "19    176.315789\n",
      "20    124.394737\n",
      "21     95.298246\n",
      "22     72.912281\n",
      "23     45.333333\n",
      "Name: total, dtype: float64\n"
     ]
    },
    {
     "data": {
      "image/png": "[encoded data removed]",
      "text/plain": [
       "<Figure size 640x480 with 1 Axes>"
      ]
     },
     "metadata": {},
     "output_type": "display_data"
    }
   ],
   "source": [
    "# Celda 2.2 - \"season\"=1 escriba su código y hallazgos \n",
    "\n",
    "bikes_invierno = bikes.loc[bikes[\"season\"] == 1].groupby('hour').total.mean()\n",
    "\n",
    "bikes_invierno.plot()\n",
    "\n",
    "print(bikes_invierno.describe())\n",
    "print(bikes_invierno)"
   ]
  },
  {
   "cell_type": "code",
   "execution_count": 8,
   "metadata": {},
   "outputs": [
    {
     "name": "stdout",
     "output_type": "stream",
     "text": [
      "count     24.000000\n",
      "mean     234.193830\n",
      "std      159.471610\n",
      "min        8.087719\n",
      "25%       91.504386\n",
      "50%      253.793860\n",
      "75%      307.223684\n",
      "max      565.385965\n",
      "Name: total, dtype: float64\n",
      "hour\n",
      "0      75.675439\n",
      "1      44.831858\n",
      "2      31.707965\n",
      "3      15.778761\n",
      "4       8.087719\n",
      "5      25.728070\n",
      "6      96.780702\n",
      "7     264.035088\n",
      "8     403.508772\n",
      "9     250.710526\n",
      "10    218.535088\n",
      "11    256.877193\n",
      "12    307.017544\n",
      "13    304.421053\n",
      "14    286.350877\n",
      "15    294.956140\n",
      "16    371.324561\n",
      "17    565.385965\n",
      "18    539.070175\n",
      "19    413.500000\n",
      "20    307.842105\n",
      "21    236.017544\n",
      "22    180.789474\n",
      "23    121.719298\n",
      "Name: total, dtype: float64\n"
     ]
    },
    {
     "data": {
      "image/png": "[encoded data removed]",
      "text/plain": [
       "<Figure size 640x480 with 1 Axes>"
      ]
     },
     "metadata": {},
     "output_type": "display_data"
    }
   ],
   "source": [
    "# Celda 2.3 - \"season\"=3 escriba su código y hallazgos \n",
    "bikes_verano = bikes.loc[bikes[\"season\"] == 3].groupby('hour').total.mean()\n",
    "\n",
    "bikes_verano.plot()\n",
    "\n",
    "print(bikes_verano.describe())\n",
    "print(bikes_verano)"
   ]
  },
  {
   "cell_type": "markdown",
   "metadata": {},
   "source": [
    " <font color='green'> Se observa que el comportamniento de alquiler de bicicletas es muy similar en estas dos estaciones, podemos observar que la cantidad minima de uso de bicicletas se da a las 4 de la mañana para las dos estaciones (invierno=3 y verano=8), luego empieza a ascender en ambas categorias hasta las 8 de la mañana donde alcanza un nuevo pico (invierno=253 y verano=403), luego empieza a descender hasta que ambas categorias llegan a las 10 de la mañana donde regitran una nueva caida en el uso de las biciletas (invierno=102 y verano=218) luego empieza un uso regular de este medio hasta las 5 de la tarde donde se alcanzao el pico mas alto de uso o de renta de bicicletas (invierno=283 y verano=565) apartir de esta hora se registra un a caida en el uso de la bicilceta hasta el dia siguiente.</font>\n",
    " \n",
    "  <font color='green'> Aunque la diferencia en cuanto a la cantidad de bicicletas alquiladas es sustancial en ambas estacion, mantienen el mismo comportamiento o patron de alquiler. sin embargo en invierno los dos picos mas altos de uso se dan casi de igual manera en la mañana y en la tarde, lo que no ocurren en verano, donde se observa que la tendencia es que en la tarde se usa en mayor proporcion que en la mañana.</font>"
   ]
  },
  {
   "cell_type": "markdown",
   "metadata": {},
   "source": [
    "### Punto 3 - Regresión lineal\n",
    "En la celda 3 ajuste un modelo de regresión lineal a todo el conjunto de datos, utilizando \"total\" como variable de respuesta y \"season\" y \"hour\" como las únicas variables predictoras, teniendo en cuenta que la variable \"season\" es categórica. Luego, imprima los coeficientes e interprételos. ¿Cuáles son las limitaciones de la regresión lineal en este caso?"
   ]
  },
  {
   "cell_type": "code",
   "execution_count": 9,
   "metadata": {},
   "outputs": [
    {
     "data": {
      "text/html": [
       "<div>\n",
       "<style scoped>\n",
       "    .dataframe tbody tr th:only-of-type {\n",
       "        vertical-align: middle;\n",
       "    }\n",
       "\n",
       "    .dataframe tbody tr th {\n",
       "        vertical-align: top;\n",
       "    }\n",
       "\n",
       "    .dataframe thead th {\n",
       "        text-align: right;\n",
       "    }\n",
       "</style>\n",
       "<table border=\"1\" class=\"dataframe\">\n",
       "  <thead>\n",
       "    <tr style=\"text-align: right;\">\n",
       "      <th></th>\n",
       "      <th>invierno</th>\n",
       "      <th>primavera</th>\n",
       "      <th>verano</th>\n",
       "      <th>otoño</th>\n",
       "      <th>hour</th>\n",
       "      <th>total</th>\n",
       "    </tr>\n",
       "    <tr>\n",
       "      <th>datetime</th>\n",
       "      <th></th>\n",
       "      <th></th>\n",
       "      <th></th>\n",
       "      <th></th>\n",
       "      <th></th>\n",
       "      <th></th>\n",
       "    </tr>\n",
       "  </thead>\n",
       "  <tbody>\n",
       "    <tr>\n",
       "      <th>2011-01-01 00:00:00</th>\n",
       "      <td>1</td>\n",
       "      <td>0</td>\n",
       "      <td>0</td>\n",
       "      <td>0</td>\n",
       "      <td>0</td>\n",
       "      <td>16</td>\n",
       "    </tr>\n",
       "    <tr>\n",
       "      <th>2011-01-01 01:00:00</th>\n",
       "      <td>1</td>\n",
       "      <td>0</td>\n",
       "      <td>0</td>\n",
       "      <td>0</td>\n",
       "      <td>1</td>\n",
       "      <td>40</td>\n",
       "    </tr>\n",
       "    <tr>\n",
       "      <th>2011-01-01 02:00:00</th>\n",
       "      <td>1</td>\n",
       "      <td>0</td>\n",
       "      <td>0</td>\n",
       "      <td>0</td>\n",
       "      <td>2</td>\n",
       "      <td>32</td>\n",
       "    </tr>\n",
       "    <tr>\n",
       "      <th>2011-01-01 03:00:00</th>\n",
       "      <td>1</td>\n",
       "      <td>0</td>\n",
       "      <td>0</td>\n",
       "      <td>0</td>\n",
       "      <td>3</td>\n",
       "      <td>13</td>\n",
       "    </tr>\n",
       "    <tr>\n",
       "      <th>2011-01-01 04:00:00</th>\n",
       "      <td>1</td>\n",
       "      <td>0</td>\n",
       "      <td>0</td>\n",
       "      <td>0</td>\n",
       "      <td>4</td>\n",
       "      <td>1</td>\n",
       "    </tr>\n",
       "  </tbody>\n",
       "</table>\n",
       "</div>"
      ],
      "text/plain": [
       "                     invierno  primavera  verano  otoño  hour  total\n",
       "datetime                                                            \n",
       "2011-01-01 00:00:00         1          0       0      0     0     16\n",
       "2011-01-01 01:00:00         1          0       0      0     1     40\n",
       "2011-01-01 02:00:00         1          0       0      0     2     32\n",
       "2011-01-01 03:00:00         1          0       0      0     3     13\n",
       "2011-01-01 04:00:00         1          0       0      0     4      1"
      ]
     },
     "execution_count": 9,
     "metadata": {},
     "output_type": "execute_result"
    }
   ],
   "source": [
    "# Codificación one-hot con pd.get_dummies()\n",
    "bikes1=bikes\n",
    "bikes = pd.get_dummies(bikes, columns=['season'])\n",
    "bikes = bikes.rename(columns={'season_1': 'invierno','season_2': 'primavera','season_3': 'verano','season_4': 'otoño'})\n",
    "bikes=bikes[[ 'invierno','primavera','verano','otoño',\"hour\",\"total\"]]\n",
    "\n",
    "import seaborn as sns\n",
    "bikes.head()\n"
   ]
  },
  {
   "cell_type": "code",
   "execution_count": 10,
   "metadata": {},
   "outputs": [
    {
     "name": "stdout",
     "output_type": "stream",
     "text": [
      "(10886, 6)\n",
      "(7620, 5)\n",
      "(7620, 1)\n",
      "(3266, 5)\n",
      "(3266, 1)\n"
     ]
    }
   ],
   "source": [
    "from sklearn.model_selection import train_test_split\n",
    "from sklearn.preprocessing import StandardScaler\n",
    "\n",
    "X=bikes[['invierno','primavera','verano', 'otoño',\"hour\"]]\n",
    "y=bikes[[\"total\"]]\n",
    "\n",
    "scaler = StandardScaler()\n",
    "num_vars = ['invierno','primavera','verano', 'otoño',\"hour\"]\n",
    "X[num_vars] = scaler.fit_transform(X[num_vars])\n",
    "\n",
    "\n",
    "X_train, X_test,y_train,y_test = train_test_split(X,y, train_size = 0.7, test_size = 0.3, random_state = 1280)\n",
    "\n",
    "\n",
    "num_vars = ['invierno','primavera','verano', 'otoño',\"hour\"]\n",
    "\n",
    "X_train[num_vars] = scaler.fit_transform(X_train[num_vars])\n",
    "\n",
    "print(bikes.shape)\n",
    "print(X_train.shape)\n",
    "print(y_train.shape)\n",
    "print(X_test.shape)\n",
    "print(y_test.shape)"
   ]
  },
  {
   "cell_type": "code",
   "execution_count": 11,
   "metadata": {},
   "outputs": [
    {
     "data": {
      "text/html": [
       "<div>\n",
       "<style scoped>\n",
       "    .dataframe tbody tr th:only-of-type {\n",
       "        vertical-align: middle;\n",
       "    }\n",
       "\n",
       "    .dataframe tbody tr th {\n",
       "        vertical-align: top;\n",
       "    }\n",
       "\n",
       "    .dataframe thead th {\n",
       "        text-align: right;\n",
       "    }\n",
       "</style>\n",
       "<table border=\"1\" class=\"dataframe\">\n",
       "  <thead>\n",
       "    <tr style=\"text-align: right;\">\n",
       "      <th></th>\n",
       "      <th>invierno</th>\n",
       "      <th>primavera</th>\n",
       "      <th>verano</th>\n",
       "      <th>otoño</th>\n",
       "      <th>hour</th>\n",
       "    </tr>\n",
       "    <tr>\n",
       "      <th>datetime</th>\n",
       "      <th></th>\n",
       "      <th></th>\n",
       "      <th></th>\n",
       "      <th></th>\n",
       "      <th></th>\n",
       "    </tr>\n",
       "  </thead>\n",
       "  <tbody>\n",
       "    <tr>\n",
       "      <th>2012-03-03 01:00:00</th>\n",
       "      <td>1.742417</td>\n",
       "      <td>-0.582199</td>\n",
       "      <td>-0.572097</td>\n",
       "      <td>-0.581189</td>\n",
       "      <td>-1.506397</td>\n",
       "    </tr>\n",
       "    <tr>\n",
       "      <th>2011-09-19 18:00:00</th>\n",
       "      <td>-0.573915</td>\n",
       "      <td>-0.582199</td>\n",
       "      <td>1.747956</td>\n",
       "      <td>-0.581189</td>\n",
       "      <td>0.942233</td>\n",
       "    </tr>\n",
       "    <tr>\n",
       "      <th>2011-05-07 20:00:00</th>\n",
       "      <td>-0.573915</td>\n",
       "      <td>1.717624</td>\n",
       "      <td>-0.572097</td>\n",
       "      <td>-0.581189</td>\n",
       "      <td>1.230307</td>\n",
       "    </tr>\n",
       "    <tr>\n",
       "      <th>2011-10-06 23:00:00</th>\n",
       "      <td>-0.573915</td>\n",
       "      <td>-0.582199</td>\n",
       "      <td>-0.572097</td>\n",
       "      <td>1.720610</td>\n",
       "      <td>1.662418</td>\n",
       "    </tr>\n",
       "    <tr>\n",
       "      <th>2011-03-07 11:00:00</th>\n",
       "      <td>1.742417</td>\n",
       "      <td>-0.582199</td>\n",
       "      <td>-0.572097</td>\n",
       "      <td>-0.581189</td>\n",
       "      <td>-0.066026</td>\n",
       "    </tr>\n",
       "  </tbody>\n",
       "</table>\n",
       "</div>"
      ],
      "text/plain": [
       "                     invierno  primavera    verano     otoño      hour\n",
       "datetime                                                              \n",
       "2012-03-03 01:00:00  1.742417  -0.582199 -0.572097 -0.581189 -1.506397\n",
       "2011-09-19 18:00:00 -0.573915  -0.582199  1.747956 -0.581189  0.942233\n",
       "2011-05-07 20:00:00 -0.573915   1.717624 -0.572097 -0.581189  1.230307\n",
       "2011-10-06 23:00:00 -0.573915  -0.582199 -0.572097  1.720610  1.662418\n",
       "2011-03-07 11:00:00  1.742417  -0.582199 -0.572097 -0.581189 -0.066026"
      ]
     },
     "execution_count": 11,
     "metadata": {},
     "output_type": "execute_result"
    }
   ],
   "source": [
    "X_train.head()"
   ]
  },
  {
   "cell_type": "code",
   "execution_count": 12,
   "metadata": {},
   "outputs": [
    {
     "data": {
      "text/html": [
       "<div>\n",
       "<style scoped>\n",
       "    .dataframe tbody tr th:only-of-type {\n",
       "        vertical-align: middle;\n",
       "    }\n",
       "\n",
       "    .dataframe tbody tr th {\n",
       "        vertical-align: top;\n",
       "    }\n",
       "\n",
       "    .dataframe thead th {\n",
       "        text-align: right;\n",
       "    }\n",
       "</style>\n",
       "<table border=\"1\" class=\"dataframe\">\n",
       "  <thead>\n",
       "    <tr style=\"text-align: right;\">\n",
       "      <th></th>\n",
       "      <th>invierno</th>\n",
       "      <th>primavera</th>\n",
       "      <th>verano</th>\n",
       "      <th>otoño</th>\n",
       "      <th>hour</th>\n",
       "    </tr>\n",
       "    <tr>\n",
       "      <th>datetime</th>\n",
       "      <th></th>\n",
       "      <th></th>\n",
       "      <th></th>\n",
       "      <th></th>\n",
       "      <th></th>\n",
       "    </tr>\n",
       "  </thead>\n",
       "  <tbody>\n",
       "    <tr>\n",
       "      <th>2011-12-03 22:00:00</th>\n",
       "      <td>-0.572329</td>\n",
       "      <td>-0.578977</td>\n",
       "      <td>-0.578977</td>\n",
       "      <td>1.726763</td>\n",
       "      <td>1.512307</td>\n",
       "    </tr>\n",
       "    <tr>\n",
       "      <th>2012-12-15 06:00:00</th>\n",
       "      <td>-0.572329</td>\n",
       "      <td>-0.578977</td>\n",
       "      <td>-0.578977</td>\n",
       "      <td>1.726763</td>\n",
       "      <td>-0.801330</td>\n",
       "    </tr>\n",
       "    <tr>\n",
       "      <th>2012-02-12 23:00:00</th>\n",
       "      <td>1.747245</td>\n",
       "      <td>-0.578977</td>\n",
       "      <td>-0.578977</td>\n",
       "      <td>-0.579118</td>\n",
       "      <td>1.656909</td>\n",
       "    </tr>\n",
       "    <tr>\n",
       "      <th>2012-02-05 22:00:00</th>\n",
       "      <td>1.747245</td>\n",
       "      <td>-0.578977</td>\n",
       "      <td>-0.578977</td>\n",
       "      <td>-0.579118</td>\n",
       "      <td>1.512307</td>\n",
       "    </tr>\n",
       "    <tr>\n",
       "      <th>2011-06-02 12:00:00</th>\n",
       "      <td>-0.572329</td>\n",
       "      <td>1.727185</td>\n",
       "      <td>-0.578977</td>\n",
       "      <td>-0.579118</td>\n",
       "      <td>0.066284</td>\n",
       "    </tr>\n",
       "  </tbody>\n",
       "</table>\n",
       "</div>"
      ],
      "text/plain": [
       "                     invierno  primavera    verano     otoño      hour\n",
       "datetime                                                              \n",
       "2011-12-03 22:00:00 -0.572329  -0.578977 -0.578977  1.726763  1.512307\n",
       "2012-12-15 06:00:00 -0.572329  -0.578977 -0.578977  1.726763 -0.801330\n",
       "2012-02-12 23:00:00  1.747245  -0.578977 -0.578977 -0.579118  1.656909\n",
       "2012-02-05 22:00:00  1.747245  -0.578977 -0.578977 -0.579118  1.512307\n",
       "2011-06-02 12:00:00 -0.572329   1.727185 -0.578977 -0.579118  0.066284"
      ]
     },
     "execution_count": 12,
     "metadata": {},
     "output_type": "execute_result"
    }
   ],
   "source": [
    "X_test.head()"
   ]
  },
  {
   "cell_type": "code",
   "execution_count": 13,
   "metadata": {},
   "outputs": [
    {
     "data": {
      "text/html": [
       "<div>\n",
       "<style scoped>\n",
       "    .dataframe tbody tr th:only-of-type {\n",
       "        vertical-align: middle;\n",
       "    }\n",
       "\n",
       "    .dataframe tbody tr th {\n",
       "        vertical-align: top;\n",
       "    }\n",
       "\n",
       "    .dataframe thead th {\n",
       "        text-align: right;\n",
       "    }\n",
       "</style>\n",
       "<table border=\"1\" class=\"dataframe\">\n",
       "  <thead>\n",
       "    <tr style=\"text-align: right;\">\n",
       "      <th></th>\n",
       "      <th>total</th>\n",
       "    </tr>\n",
       "    <tr>\n",
       "      <th>datetime</th>\n",
       "      <th></th>\n",
       "    </tr>\n",
       "  </thead>\n",
       "  <tbody>\n",
       "    <tr>\n",
       "      <th>2012-03-03 01:00:00</th>\n",
       "      <td>44</td>\n",
       "    </tr>\n",
       "    <tr>\n",
       "      <th>2011-09-19 18:00:00</th>\n",
       "      <td>540</td>\n",
       "    </tr>\n",
       "    <tr>\n",
       "      <th>2011-05-07 20:00:00</th>\n",
       "      <td>219</td>\n",
       "    </tr>\n",
       "    <tr>\n",
       "      <th>2011-10-06 23:00:00</th>\n",
       "      <td>99</td>\n",
       "    </tr>\n",
       "    <tr>\n",
       "      <th>2011-03-07 11:00:00</th>\n",
       "      <td>60</td>\n",
       "    </tr>\n",
       "  </tbody>\n",
       "</table>\n",
       "</div>"
      ],
      "text/plain": [
       "                     total\n",
       "datetime                  \n",
       "2012-03-03 01:00:00     44\n",
       "2011-09-19 18:00:00    540\n",
       "2011-05-07 20:00:00    219\n",
       "2011-10-06 23:00:00     99\n",
       "2011-03-07 11:00:00     60"
      ]
     },
     "execution_count": 13,
     "metadata": {},
     "output_type": "execute_result"
    }
   ],
   "source": [
    "y_train.head()"
   ]
  },
  {
   "cell_type": "code",
   "execution_count": 14,
   "metadata": {},
   "outputs": [
    {
     "data": {
      "text/html": [
       "<div>\n",
       "<style scoped>\n",
       "    .dataframe tbody tr th:only-of-type {\n",
       "        vertical-align: middle;\n",
       "    }\n",
       "\n",
       "    .dataframe tbody tr th {\n",
       "        vertical-align: top;\n",
       "    }\n",
       "\n",
       "    .dataframe thead th {\n",
       "        text-align: right;\n",
       "    }\n",
       "</style>\n",
       "<table border=\"1\" class=\"dataframe\">\n",
       "  <thead>\n",
       "    <tr style=\"text-align: right;\">\n",
       "      <th></th>\n",
       "      <th>total</th>\n",
       "    </tr>\n",
       "    <tr>\n",
       "      <th>datetime</th>\n",
       "      <th></th>\n",
       "    </tr>\n",
       "  </thead>\n",
       "  <tbody>\n",
       "    <tr>\n",
       "      <th>2011-12-03 22:00:00</th>\n",
       "      <td>114</td>\n",
       "    </tr>\n",
       "    <tr>\n",
       "      <th>2012-12-15 06:00:00</th>\n",
       "      <td>11</td>\n",
       "    </tr>\n",
       "    <tr>\n",
       "      <th>2012-02-12 23:00:00</th>\n",
       "      <td>23</td>\n",
       "    </tr>\n",
       "    <tr>\n",
       "      <th>2012-02-05 22:00:00</th>\n",
       "      <td>191</td>\n",
       "    </tr>\n",
       "    <tr>\n",
       "      <th>2011-06-02 12:00:00</th>\n",
       "      <td>232</td>\n",
       "    </tr>\n",
       "  </tbody>\n",
       "</table>\n",
       "</div>"
      ],
      "text/plain": [
       "                     total\n",
       "datetime                  \n",
       "2011-12-03 22:00:00    114\n",
       "2012-12-15 06:00:00     11\n",
       "2012-02-12 23:00:00     23\n",
       "2012-02-05 22:00:00    191\n",
       "2011-06-02 12:00:00    232"
      ]
     },
     "execution_count": 14,
     "metadata": {},
     "output_type": "execute_result"
    }
   ],
   "source": [
    "y_test.head()"
   ]
  },
  {
   "cell_type": "code",
   "execution_count": 15,
   "metadata": {},
   "outputs": [
    {
     "name": "stdout",
     "output_type": "stream",
     "text": [
      "w = [[-8.13050779e+13 -8.18887027e+13 -8.11747104e+13 -8.18184238e+13\n",
      "   7.31429443e+01]], b = [189.13856128]\n"
     ]
    }
   ],
   "source": [
    "from sklearn.linear_model import LinearRegression\n",
    "\n",
    "reg = LinearRegression()\n",
    "reg.fit(X_train, y_train)\n",
    "\n",
    "print('w = ' + str(reg.coef_) + ', b = ' + str(reg.intercept_))\n"
   ]
  },
  {
   "cell_type": "code",
   "execution_count": 16,
   "metadata": {},
   "outputs": [
    {
     "name": "stdout",
     "output_type": "stream",
     "text": [
      "0.22707019502741377\n"
     ]
    }
   ],
   "source": [
    "print(reg.score(X_train, y_train))"
   ]
  },
  {
   "cell_type": "code",
   "execution_count": 17,
   "metadata": {},
   "outputs": [
    {
     "name": "stdout",
     "output_type": "stream",
     "text": [
      "[[-3.37850741e+11]\n",
      " [-3.37850741e+11]\n",
      " [-2.67476614e+11]\n",
      " ...\n",
      " [-2.67476614e+11]\n",
      " [-2.67476614e+11]\n",
      " [-3.37850741e+11]]\n",
      "Mean Squared Error: MSE 4.4327337765380387e+23\n",
      "Root Mean Squared Error RMSE: 665787787251.917\n"
     ]
    }
   ],
   "source": [
    "import sklearn.metrics as metrics\n",
    "\n",
    "predicciones = reg.predict(X_test)\n",
    "print(predicciones)\n",
    "print('Mean Squared Error: MSE', metrics.mean_squared_error(y_test, predicciones))\n",
    "print('Root Mean Squared Error RMSE:', np.sqrt(metrics.mean_squared_error(y_test, predicciones)))"
   ]
  },
  {
   "cell_type": "markdown",
   "metadata": {},
   "source": [
    "### Punto 4 - Árbol de decisión manual\n",
    "En la celda 4 cree un árbol de decisiones para pronosticar la variable \"total\" iterando **manualmente** sobre las variables \"hour\" y  \"season\". El árbol debe tener al menos 6 nodos finales."
   ]
  },
  {
   "cell_type": "code",
   "execution_count": 18,
   "metadata": {},
   "outputs": [
    {
     "name": "stdout",
     "output_type": "stream",
     "text": [
      "(10886, 2)\n",
      "(10886,)\n"
     ]
    }
   ],
   "source": [
    "X = bikes2[['season',\"hour\"]]\n",
    "y = bikes1.total.astype(int)\n",
    "\n",
    "print(X.shape)\n",
    "print(y.shape)"
   ]
  },
  {
   "cell_type": "code",
   "execution_count": 19,
   "metadata": {},
   "outputs": [
    {
     "data": {
      "text/plain": [
       "count    10886.000000\n",
       "mean       191.574132\n",
       "std        181.144454\n",
       "min          1.000000\n",
       "25%         42.000000\n",
       "50%        145.000000\n",
       "75%        284.000000\n",
       "max        977.000000\n",
       "Name: total, dtype: float64"
      ]
     },
     "execution_count": 19,
     "metadata": {},
     "output_type": "execute_result"
    }
   ],
   "source": [
    "# Descripción de la variable de respuesta 'total'\n",
    "bikes1.total.describe()"
   ]
  },
  {
   "cell_type": "code",
   "execution_count": 20,
   "metadata": {},
   "outputs": [
    {
     "data": {
      "text/plain": [
       "((10886, 2), (10886,))"
      ]
     },
     "execution_count": 20,
     "metadata": {},
     "output_type": "execute_result"
    }
   ],
   "source": [
    "\n",
    "X_train, X_test, y_train, y_test = train_test_split(X, y, test_size=0.33, random_state=42)\n",
    "\n",
    "X.shape, y.shape"
   ]
  },
  {
   "cell_type": "code",
   "execution_count": 21,
   "metadata": {},
   "outputs": [
    {
     "name": "stdout",
     "output_type": "stream",
     "text": [
      "season\n"
     ]
    },
    {
     "data": {
      "text/plain": [
       "array([1., 2., 3., 4.])"
      ]
     },
     "execution_count": 21,
     "metadata": {},
     "output_type": "execute_result"
    }
   ],
   "source": [
    "\n",
    "# Definición de parámetros y criterios de parada\n",
    "max_depth = None\n",
    "num_pct =10\n",
    "max_features = None\n",
    "min_gain=0.001\n",
    "\n",
    "# Impresión variable a usar \n",
    "j = 0\n",
    "print(X.columns[j])\n",
    "splits = np.percentile(X.iloc[:, j], np.arange(0, 100, 100.0 / num_pct).tolist())\n",
    "splits = np.unique(splits)\n",
    "splits\n"
   ]
  },
  {
   "cell_type": "code",
   "execution_count": 22,
   "metadata": {},
   "outputs": [
    {
     "name": "stdout",
     "output_type": "stream",
     "text": [
      "splits =  [1. 2. 3. 4.]\n",
      "gini_l =  -71130.05508741661\n",
      "gini_r =  -78794.70693090183\n"
     ]
    }
   ],
   "source": [
    "k=3\n",
    "filter_l = X.iloc[:, j] < splits[k]\n",
    "\n",
    "# División de la variable de respuesta de acuerdo a si la observación cumple o no con la regla binaria\n",
    "# y_l: la observación tiene un valor menor al punto de corte seleccionado\n",
    "# y_r: la observación tiene un valor mayor o igual al punto de corte seleccionado\n",
    "y_l = y.loc[filter_l]\n",
    "y_r = y.loc[~filter_l]\n",
    "\n",
    "# Definición de la función que calcula el gini index\n",
    "def gini(y):\n",
    "    if y.shape[0] == 0:\n",
    "        return 0\n",
    "    else:\n",
    "        return 1 - (y.mean()**2 + (1 - y.mean())**2)\n",
    "    \n",
    "# Gini index de las observaciones que tienen un valor menor al punto de corte seleccionado\n",
    "gini_l = gini(y_l)\n",
    "gini_l\n",
    "\n",
    "# Gini index de las observaciones que tienen un valor mayor o igual al punto de corte seleccionado\n",
    "gini_r = gini(y_r)\n",
    "gini_r\n",
    "\n",
    "print(\"splits = \", splits)\n",
    "print(\"gini_l = \",gini_l)\n",
    "print(\"gini_r = \",gini_r)"
   ]
  },
  {
   "cell_type": "code",
   "execution_count": 23,
   "metadata": {},
   "outputs": [
    {
     "data": {
      "text/plain": [
       "36.87131846396369"
      ]
     },
     "execution_count": 23,
     "metadata": {},
     "output_type": "execute_result"
    }
   ],
   "source": [
    "# Definición de la función gini_imputiry para calular la ganancia de una variable predictora j dado el punto de corte k\n",
    "def gini_impurity(X_col, y, split):\n",
    "    \n",
    "    filter_l = X_col < split\n",
    "    y_l = y.loc[filter_l]\n",
    "    y_r = y.loc[~filter_l]\n",
    "    \n",
    "    n_l = y_l.shape[0]\n",
    "    n_r = y_r.shape[0]\n",
    "    \n",
    "    gini_y = gini(y)\n",
    "    gini_l = gini(y_l)\n",
    "    gini_r = gini(y_r)\n",
    "    \n",
    "    gini_impurity_ = gini_y - (n_l / (n_l + n_r) * gini_l + n_r / (n_l + n_r) * gini_r)\n",
    "    \n",
    "    return gini_impurity_\n",
    "\n",
    "# Ganancia de la variable 'season' en el punto de corte selecionado\n",
    "gini_impurity(X.iloc[:, j], y, splits[k])\n"
   ]
  },
  {
   "cell_type": "code",
   "execution_count": 24,
   "metadata": {},
   "outputs": [
    {
     "name": "stdout",
     "output_type": "stream",
     "text": [
      "1 8.0 18268.811823533004\n",
      "splits =  [1. 2. 3. 4.]\n",
      "gini_l =  -71130.05508741661\n",
      "gini_r =  -78794.70693090183\n",
      "10886 3594 7292\n",
      "191.57413191254824 55.437673900946024 258.6715578716402\n"
     ]
    }
   ],
   "source": [
    "# Definición de la función best_split para calcular cuál es la mejor variable y punto de corte para hacer la bifurcación del árbol\n",
    "def best_split(X, y, num_pct=10):\n",
    "    \n",
    "    features = range(X.shape[1])\n",
    "    \n",
    "    best_split = [0, 0, 0]  # j, split, gain\n",
    "    \n",
    "    # Para todas las varibles \n",
    "    for j in features:\n",
    "        \n",
    "        splits = np.percentile(X.iloc[:, j], np.arange(0, 100, 100.0 / (num_pct+1)).tolist())\n",
    "        splits = np.unique(splits)[1:]\n",
    "        \n",
    "        # Para cada partición\n",
    "        for split in splits:\n",
    "            gain = gini_impurity(X.iloc[:, j], y, split)\n",
    "                        \n",
    "            if gain > best_split[2]:\n",
    "                best_split = [j, split, gain]\n",
    "    \n",
    "    return best_split\n",
    "\n",
    "# Obtención de la variable 'j', su punto de corte 'split' y su ganancia 'gain'\n",
    "j, split, gain = best_split(X, y,2)\n",
    "j, split, gain\n",
    "\n",
    "# División de las observaciones usando la mejor variable 'j' y su punto de corte 'split'\n",
    "filter_l = X.iloc[:, j] < split\n",
    "\n",
    "y_l = y.loc[filter_l]\n",
    "y_r = y.loc[~filter_l]\n",
    "\n",
    "print(j, split, gain)\n",
    "print(\"splits = \", splits)\n",
    "print(\"gini_l = \",gini_l)\n",
    "print(\"gini_r = \",gini_r)\n",
    "\n",
    "print(y.shape[0], y_l.shape[0], y_r.shape[0])\n",
    "\n",
    "print(y.mean(), y_l.mean(), y_r.mean())"
   ]
  },
  {
   "cell_type": "code",
   "execution_count": 25,
   "metadata": {},
   "outputs": [
    {
     "data": {
      "text/plain": [
       "{'y_pred': 1,\n",
       " 'y_prob': 191.53903379867745,\n",
       " 'level': 0,\n",
       " 'split': [1, 8.0],\n",
       " 'n_samples': 10886,\n",
       " 'gain': 18268.811823533004,\n",
       " 'sl': {'y_pred': 1,\n",
       "  'y_prob': 55.40711902113459,\n",
       "  'level': 1,\n",
       "  'split': -1,\n",
       "  'n_samples': 3594,\n",
       "  'gain': 7207.700659959655},\n",
       " 'sr': {'y_pred': 1,\n",
       "  'y_prob': 258.6007677543186,\n",
       "  'level': 1,\n",
       "  'split': -1,\n",
       "  'n_samples': 7292,\n",
       "  'gain': 7392.920792160614}}"
      ]
     },
     "execution_count": 25,
     "metadata": {},
     "output_type": "execute_result"
    }
   ],
   "source": [
    "# Definición de la función tree_grow para hacer un crecimiento recursivo del árbol\n",
    "def tree_grow(X, y, level=0, min_gain=0.001, max_depth=None, num_pct=10):\n",
    "    \n",
    "    # Si solo es una observación\n",
    "    if X.shape[0] == 1:\n",
    "        tree = dict(y_pred=y.iloc[:1].values[0], y_prob=0.5, level=level, split=-1, n_samples=1, gain=0)\n",
    "        return tree\n",
    "    \n",
    "    # Calcular la mejor división\n",
    "    j, split, gain = best_split(X, y, num_pct)\n",
    "    \n",
    "    # Guardar el árbol y estimar la predicción\n",
    "    y_pred = int(y.mean() >= 0.5) \n",
    "    y_prob = (y.sum() + 1.0) / (y.shape[0] + 2.0)  # Corrección Laplace \n",
    "    \n",
    "    tree = dict(y_pred=y_pred, y_prob=y_prob, level=level, split=-1, n_samples=X.shape[0], gain=gain)\n",
    "    # Revisar el criterio de parada \n",
    "    if gain < min_gain:\n",
    "        return tree\n",
    "    if max_depth is not None:\n",
    "        if level >= max_depth:\n",
    "            return tree   \n",
    "    \n",
    "    # Continuar creando la partición\n",
    "    filter_l = X.iloc[:, j] < split\n",
    "    X_l, y_l = X.loc[filter_l], y.loc[filter_l]\n",
    "    X_r, y_r = X.loc[~filter_l], y.loc[~filter_l]\n",
    "    tree['split'] = [j, split]\n",
    "\n",
    "    # Siguiente iteración para cada partición\n",
    "    \n",
    "    tree['sl'] = tree_grow(X_l, y_l, level + 1, min_gain=min_gain, max_depth=max_depth, num_pct=num_pct)\n",
    "    tree['sr'] = tree_grow(X_r, y_r, level + 1, min_gain=min_gain, max_depth=max_depth, num_pct=num_pct)\n",
    "    \n",
    "    return tree\n",
    "\n",
    "# Aplicación de la función tree_grow\n",
    "tree_grow(X, y, level=0, min_gain=0.001, max_depth=1, num_pct=10)"
   ]
  },
  {
   "cell_type": "code",
   "execution_count": 26,
   "metadata": {},
   "outputs": [
    {
     "data": {
      "text/plain": [
       "{'y_pred': 1,\n",
       " 'y_prob': 191.53903379867745,\n",
       " 'level': 0,\n",
       " 'split': [1, 8.0],\n",
       " 'n_samples': 10886,\n",
       " 'gain': 18268.811823533004,\n",
       " 'sl': {'y_pred': 1,\n",
       "  'y_prob': 55.40711902113459,\n",
       "  'level': 1,\n",
       "  'split': [1, 7.0],\n",
       "  'n_samples': 3594,\n",
       "  'gain': 7207.700659959655,\n",
       "  'sl': {'y_pred': 1,\n",
       "   'y_prob': 32.561604584527224,\n",
       "   'level': 2,\n",
       "   'split': [1, 6.0],\n",
       "   'n_samples': 3139,\n",
       "   'gain': 646.8008927589567,\n",
       "   'sl': {'y_pred': 1,\n",
       "    'y_prob': 25.15934475055845,\n",
       "    'level': 3,\n",
       "    'split': [1, 2.0],\n",
       "    'n_samples': 2684,\n",
       "    'gain': 382.8088308604629,\n",
       "    'sl': {'y_pred': 1,\n",
       "     'y_prob': 44.41383095499451,\n",
       "     'level': 4,\n",
       "     'split': [0, 2.0],\n",
       "     'n_samples': 909,\n",
       "     'gain': 291.4004681825131,\n",
       "     'sl': {'y_pred': 1,\n",
       "      'y_prob': 23.32456140350877,\n",
       "      'level': 5,\n",
       "      'split': [1, 1.0],\n",
       "      'n_samples': 226,\n",
       "      'gain': 45.41972746495435,\n",
       "      'sl': {'y_pred': 1,\n",
       "       'y_prob': 27.808695652173913,\n",
       "       'level': 6,\n",
       "       'split': -1,\n",
       "       'n_samples': 113,\n",
       "       'gain': 0},\n",
       "      'sr': {'y_pred': 1,\n",
       "       'y_prob': 18.443478260869565,\n",
       "       'level': 6,\n",
       "       'split': -1,\n",
       "       'n_samples': 113,\n",
       "       'gain': 0}},\n",
       "     'sr': {'y_pred': 1,\n",
       "      'y_prob': 51.3051094890511,\n",
       "      'level': 5,\n",
       "      'split': [1, 1.0],\n",
       "      'n_samples': 683,\n",
       "      'gain': 316.1751143186211,\n",
       "      'sl': {'y_pred': 1,\n",
       "       'y_prob': 63.63953488372093,\n",
       "       'level': 6,\n",
       "       'split': -1,\n",
       "       'n_samples': 342,\n",
       "       'gain': 37.59626038780971},\n",
       "      'sr': {'y_pred': 1,\n",
       "       'y_prob': 38.63848396501458,\n",
       "       'level': 6,\n",
       "       'split': -1,\n",
       "       'n_samples': 341,\n",
       "       'gain': 10.425846423569055}}},\n",
       "    'sr': {'y_pred': 1,\n",
       "     'y_prob': 15.260551491277434,\n",
       "     'level': 4,\n",
       "     'split': [1, 3.0],\n",
       "     'n_samples': 1775,\n",
       "     'gain': 39.229899273669275,\n",
       "     'sl': {'y_pred': 1,\n",
       "      'y_prob': 22.8,\n",
       "      'level': 5,\n",
       "      'split': [0, 2.0],\n",
       "      'n_samples': 448,\n",
       "      'gain': 58.9740013202146,\n",
       "      'sl': {'y_pred': 1,\n",
       "       'y_prob': 12.972477064220184,\n",
       "       'level': 6,\n",
       "       'split': -1,\n",
       "       'n_samples': 107,\n",
       "       'gain': 0},\n",
       "      'sr': {'y_pred': 1,\n",
       "       'y_prob': 25.793002915451893,\n",
       "       'level': 6,\n",
       "       'split': -1,\n",
       "       'n_samples': 341,\n",
       "       'gain': 10.65568633118778}},\n",
       "     'sr': {'y_pred': 1,\n",
       "      'y_prob': 12.685477802859292,\n",
       "      'level': 5,\n",
       "      'split': [1, 5.0],\n",
       "      'n_samples': 1327,\n",
       "      'gain': 51.55182386612603,\n",
       "      'sl': {'y_pred': 1,\n",
       "       'y_prob': 9.035347776510832,\n",
       "       'level': 6,\n",
       "       'split': -1,\n",
       "       'n_samples': 875,\n",
       "       'gain': 14.311158670464266},\n",
       "      'sr': {'y_pred': 1,\n",
       "       'y_prob': 19.68281938325991,\n",
       "       'level': 6,\n",
       "       'split': -1,\n",
       "       'n_samples': 452,\n",
       "       'gain': 57.661438120649336}}}},\n",
       "   'sr': {'y_pred': 1,\n",
       "    'y_prob': 75.92778993435448,\n",
       "    'level': 3,\n",
       "    'split': [0, 2.0],\n",
       "    'n_samples': 455,\n",
       "    'gain': 743.095592335012,\n",
       "    'sl': {'y_pred': 1,\n",
       "     'y_prob': 41.99130434782609,\n",
       "     'level': 4,\n",
       "     'split': -1,\n",
       "     'n_samples': 113,\n",
       "     'gain': 0},\n",
       "    'sr': {'y_pred': 1,\n",
       "     'y_prob': 86.83430232558139,\n",
       "     'level': 4,\n",
       "     'split': [0, 4.0],\n",
       "     'n_samples': 342,\n",
       "     'gain': 25.855143462948035,\n",
       "     'sl': {'y_pred': 1,\n",
       "      'y_prob': 89.10434782608695,\n",
       "      'level': 5,\n",
       "      'split': [0, 3.0],\n",
       "      'n_samples': 228,\n",
       "      'gain': 95.19579101261843,\n",
       "      'sl': {'y_pred': 1,\n",
       "       'y_prob': 81.5603448275862,\n",
       "       'level': 6,\n",
       "       'split': -1,\n",
       "       'n_samples': 114,\n",
       "       'gain': 0},\n",
       "      'sr': {'y_pred': 1,\n",
       "       'y_prob': 95.12068965517241,\n",
       "       'level': 6,\n",
       "       'split': -1,\n",
       "       'n_samples': 114,\n",
       "       'gain': 0}},\n",
       "     'sr': {'y_pred': 1,\n",
       "      'y_prob': 80.84482758620689,\n",
       "      'level': 5,\n",
       "      'split': -1,\n",
       "      'n_samples': 114,\n",
       "      'gain': 0}}}},\n",
       "  'sr': {'y_pred': 1,\n",
       "   'y_prob': 212.18599562363238,\n",
       "   'level': 2,\n",
       "   'split': [0, 2.0],\n",
       "   'n_samples': 455,\n",
       "   'gain': 5197.1071057533845,\n",
       "   'sl': {'y_pred': 1,\n",
       "    'y_prob': 122.27826086956522,\n",
       "    'level': 3,\n",
       "    'split': -1,\n",
       "    'n_samples': 113,\n",
       "    'gain': 0},\n",
       "   'sr': {'y_pred': 1,\n",
       "    'y_prob': 241.01162790697674,\n",
       "    'level': 3,\n",
       "    'split': [0, 4.0],\n",
       "    'n_samples': 342,\n",
       "    'gain': 131.37717588317173,\n",
       "    'sl': {'y_pred': 1,\n",
       "     'y_prob': 245.99565217391304,\n",
       "     'level': 4,\n",
       "     'split': [0, 3.0],\n",
       "     'n_samples': 228,\n",
       "     'gain': 504.7277623884438,\n",
       "     'sl': {'y_pred': 1,\n",
       "      'y_prob': 228.26724137931035,\n",
       "      'level': 5,\n",
       "      'split': -1,\n",
       "      'n_samples': 114,\n",
       "      'gain': 0},\n",
       "     'sr': {'y_pred': 1,\n",
       "      'y_prob': 259.4913793103448,\n",
       "      'level': 5,\n",
       "      'split': -1,\n",
       "      'n_samples': 114,\n",
       "      'gain': 0}},\n",
       "    'sr': {'y_pred': 1,\n",
       "     'y_prob': 226.98275862068965,\n",
       "     'level': 4,\n",
       "     'split': -1,\n",
       "     'n_samples': 114,\n",
       "     'gain': 0}}}},\n",
       " 'sr': {'y_pred': 1,\n",
       "  'y_prob': 258.6007677543186,\n",
       "  'level': 1,\n",
       "  'split': [1, 21.0],\n",
       "  'n_samples': 7292,\n",
       "  'gain': 7392.920792160614,\n",
       "  'sl': {'y_pred': 1,\n",
       "   'y_prob': 287.7910901113736,\n",
       "   'level': 2,\n",
       "   'split': [0, 2.0],\n",
       "   'n_samples': 5924,\n",
       "   'gain': 8304.11949599313,\n",
       "   'sl': {'y_pred': 1,\n",
       "    'y_prob': 175.89256756756757,\n",
       "    'level': 3,\n",
       "    'split': [1, 16.0],\n",
       "    'n_samples': 1478,\n",
       "    'gain': 1134.7125713419155,\n",
       "    'sl': {'y_pred': 1,\n",
       "     'y_prob': 156.91318681318683,\n",
       "     'level': 4,\n",
       "     'split': [1, 9.0],\n",
       "     'n_samples': 908,\n",
       "     'gain': 2624.6681854894996,\n",
       "     'sl': {'y_pred': 1,\n",
       "      'y_prob': 248.94782608695652,\n",
       "      'level': 5,\n",
       "      'split': -1,\n",
       "      'n_samples': 113,\n",
       "      'gain': 0},\n",
       "     'sr': {'y_pred': 1,\n",
       "      'y_prob': 143.2409033877039,\n",
       "      'level': 5,\n",
       "      'split': [1, 12.0],\n",
       "      'n_samples': 795,\n",
       "      'gain': 439.6561657092534,\n",
       "      'sl': {'y_pred': 1,\n",
       "       'y_prob': 125.66568914956012,\n",
       "       'level': 6,\n",
       "       'split': -1,\n",
       "       'n_samples': 339,\n",
       "       'gain': 786.1489632008015},\n",
       "      'sr': {'y_pred': 1,\n",
       "       'y_prob': 155.70305676855895,\n",
       "       'level': 6,\n",
       "       'split': -1,\n",
       "       'n_samples': 456,\n",
       "       'gain': 4.874220914134639}}},\n",
       "    'sr': {'y_pred': 1,\n",
       "     'y_prob': 205.4737762237762,\n",
       "     'level': 4,\n",
       "     'split': [1, 19.0],\n",
       "     'n_samples': 570,\n",
       "     'gain': 4157.134528572889,\n",
       "     'sl': {'y_pred': 1,\n",
       "      'y_prob': 242.00581395348837,\n",
       "      'level': 5,\n",
       "      'split': [1, 17.0],\n",
       "      'n_samples': 342,\n",
       "      'gain': 3000.6049382716155,\n",
       "      'sl': {'y_pred': 1,\n",
       "       'y_prob': 185.39655172413794,\n",
       "       'level': 6,\n",
       "       'split': -1,\n",
       "       'n_samples': 114,\n",
       "       'gain': 0},\n",
       "      'sr': {'y_pred': 1,\n",
       "       'y_prob': 268.45652173913044,\n",
       "       'level': 6,\n",
       "       'split': -1,\n",
       "       'n_samples': 228,\n",
       "       'gain': 320.00061557401204}},\n",
       "     'sr': {'y_pred': 1,\n",
       "      'y_prob': 149.05217391304348,\n",
       "      'level': 5,\n",
       "      'split': [1, 20.0],\n",
       "      'n_samples': 228,\n",
       "      'gain': 1347.89785318559,\n",
       "      'sl': {'y_pred': 1,\n",
       "       'y_prob': 173.2844827586207,\n",
       "       'level': 6,\n",
       "       'split': -1,\n",
       "       'n_samples': 114,\n",
       "       'gain': 0},\n",
       "      'sr': {'y_pred': 1,\n",
       "       'y_prob': 122.25862068965517,\n",
       "       'level': 6,\n",
       "       'split': -1,\n",
       "       'n_samples': 114,\n",
       "       'gain': 0}}}},\n",
       "   'sr': {'y_pred': 1,\n",
       "    'y_prob': 324.8943345323741,\n",
       "    'level': 3,\n",
       "    'split': [1, 16.0],\n",
       "    'n_samples': 4446,\n",
       "    'gain': 7126.654106105911,\n",
       "    'sl': {'y_pred': 1,\n",
       "     'y_prob': 277.645726807889,\n",
       "     'level': 4,\n",
       "     'split': [1, 9.0],\n",
       "     'n_samples': 2736,\n",
       "     'gain': 4188.375695612398,\n",
       "     'sl': {'y_pred': 1,\n",
       "      'y_prob': 396.6075581395349,\n",
       "      'level': 5,\n",
       "      'split': [0, 3.0],\n",
       "      'n_samples': 342,\n",
       "      'gain': 76.23025888297707,\n",
       "      'sl': {'y_pred': 1,\n",
       "       'y_prob': 383.4741379310345,\n",
       "       'level': 6,\n",
       "       'split': -1,\n",
       "       'n_samples': 114,\n",
       "       'gain': 0},\n",
       "      'sr': {'y_pred': 1,\n",
       "       'y_prob': 399.7869565217391,\n",
       "       'level': 6,\n",
       "       'split': -1,\n",
       "       'n_samples': 228,\n",
       "       'gain': 0.09618344099726528}},\n",
       "     'sr': {'y_pred': 1,\n",
       "      'y_prob': 260.3347245409015,\n",
       "      'level': 5,\n",
       "      'split': [1, 12.0],\n",
       "      'n_samples': 2394,\n",
       "      'gain': 1622.4360912724806,\n",
       "      'sl': {'y_pred': 1,\n",
       "       'y_prob': 227.22178988326849,\n",
       "       'level': 6,\n",
       "       'split': -1,\n",
       "       'n_samples': 1026,\n",
       "       'gain': 267.829494545309},\n",
       "      'sr': {'y_pred': 1,\n",
       "       'y_prob': 284.8021897810219,\n",
       "       'level': 6,\n",
       "       'split': -1,\n",
       "       'n_samples': 1368,\n",
       "       'gain': 123.14834104932379}}},\n",
       "    'sr': {'y_pred': 1,\n",
       "     'y_prob': 400.08002336448595,\n",
       "     'level': 4,\n",
       "     'split': [1, 19.0],\n",
       "     'n_samples': 1710,\n",
       "     'gain': 10357.058249717928,\n",
       "     'sl': {'y_pred': 1,\n",
       "      'y_prob': 458.41147859922177,\n",
       "      'level': 5,\n",
       "      'split': [1, 17.0],\n",
       "      'n_samples': 1026,\n",
       "      'gain': 10070.885409185605,\n",
       "      'sl': {'y_pred': 1,\n",
       "       'y_prob': 356.8662790697674,\n",
       "       'level': 6,\n",
       "       'split': -1,\n",
       "       'n_samples': 342,\n",
       "       'gain': 158.30348654292175},\n",
       "      'sr': {'y_pred': 1,\n",
       "       'y_prob': 507.99708454810497,\n",
       "       'level': 6,\n",
       "       'split': -1,\n",
       "       'n_samples': 684,\n",
       "       'gain': 2829.337849680276}},\n",
       "     'sr': {'y_pred': 1,\n",
       "      'y_prob': 311.50291545189503,\n",
       "      'level': 5,\n",
       "      'split': [1, 20.0],\n",
       "      'n_samples': 684,\n",
       "      'gain': 4838.748401217395,\n",
       "      'sl': {'y_pred': 1,\n",
       "       'y_prob': 359.5,\n",
       "       'level': 6,\n",
       "       'split': -1,\n",
       "       'n_samples': 342,\n",
       "       'gain': 3873.788481926109},\n",
       "      'sr': {'y_pred': 1,\n",
       "       'y_prob': 261.69767441860466,\n",
       "       'level': 6,\n",
       "       'split': -1,\n",
       "       'n_samples': 342,\n",
       "       'gain': 2368.159852604207}}}}},\n",
       "  'sr': {'y_pred': 1,\n",
       "   'y_prob': 131.95985401459853,\n",
       "   'level': 2,\n",
       "   'split': [0, 2.0],\n",
       "   'n_samples': 1368,\n",
       "   'gain': 2478.289069001301,\n",
       "   'sl': {'y_pred': 1,\n",
       "    'y_prob': 70.7703488372093,\n",
       "    'level': 3,\n",
       "    'split': [1, 23.0],\n",
       "    'n_samples': 342,\n",
       "    'gain': 668.1166854758721,\n",
       "    'sl': {'y_pred': 1,\n",
       "     'y_prob': 83.37826086956522,\n",
       "     'level': 4,\n",
       "     'split': [1, 22.0],\n",
       "     'n_samples': 228,\n",
       "     'gain': 250.5657125269281,\n",
       "     'sl': {'y_pred': 1,\n",
       "      'y_prob': 93.66379310344827,\n",
       "      'level': 5,\n",
       "      'split': -1,\n",
       "      'n_samples': 114,\n",
       "      'gain': 0},\n",
       "     'sr': {'y_pred': 1,\n",
       "      'y_prob': 71.66379310344827,\n",
       "      'level': 5,\n",
       "      'split': -1,\n",
       "      'n_samples': 114,\n",
       "      'gain': 0}},\n",
       "    'sr': {'y_pred': 1,\n",
       "     'y_prob': 44.560344827586206,\n",
       "     'level': 4,\n",
       "     'split': -1,\n",
       "     'n_samples': 114,\n",
       "     'gain': 0}},\n",
       "   'sr': {'y_pred': 1,\n",
       "    'y_prob': 152.17996108949416,\n",
       "    'level': 3,\n",
       "    'split': [1, 23.0],\n",
       "    'n_samples': 1026,\n",
       "    'gain': 2327.263104696969,\n",
       "    'sl': {'y_pred': 1,\n",
       "     'y_prob': 176.08309037900875,\n",
       "     'level': 4,\n",
       "     'split': [1, 22.0],\n",
       "     'n_samples': 684,\n",
       "     'gain': 1039.5200061557407,\n",
       "     'sl': {'y_pred': 1,\n",
       "      'y_prob': 198.23837209302326,\n",
       "      'level': 5,\n",
       "      'split': [0, 4.0],\n",
       "      'n_samples': 342,\n",
       "      'gain': 1333.531009541417,\n",
       "      'sl': {'y_pred': 1,\n",
       "       'y_prob': 215.76521739130436,\n",
       "       'level': 6,\n",
       "       'split': -1,\n",
       "       'n_samples': 228,\n",
       "       'gain': 674.4755694059422},\n",
       "      'sr': {'y_pred': 1,\n",
       "       'y_prob': 160.07758620689654,\n",
       "       'level': 6,\n",
       "       'split': -1,\n",
       "       'n_samples': 114,\n",
       "       'gain': 0}},\n",
       "     'sr': {'y_pred': 1,\n",
       "      'y_prob': 152.90697674418604,\n",
       "      'level': 5,\n",
       "      'split': [0, 4.0],\n",
       "      'n_samples': 342,\n",
       "      'gain': 749.9910741766653,\n",
       "      'sl': {'y_pred': 1,\n",
       "       'y_prob': 166.0391304347826,\n",
       "       'level': 6,\n",
       "       'split': -1,\n",
       "       'n_samples': 228,\n",
       "       'gain': 353.68667282239767},\n",
       "      'sr': {'y_pred': 1,\n",
       "       'y_prob': 124.24137931034483,\n",
       "       'level': 6,\n",
       "       'split': -1,\n",
       "       'n_samples': 114,\n",
       "       'gain': 0}}},\n",
       "    'sr': {'y_pred': 1,\n",
       "     'y_prob': 103.63081395348837,\n",
       "     'level': 4,\n",
       "     'split': [0, 4.0],\n",
       "     'n_samples': 342,\n",
       "     'gain': 223.0743134639706,\n",
       "     'sl': {'y_pred': 1,\n",
       "      'y_prob': 110.73478260869565,\n",
       "      'level': 5,\n",
       "      'split': [0, 3.0],\n",
       "      'n_samples': 228,\n",
       "      'gain': 200.70236995998494,\n",
       "      'sl': {'y_pred': 1,\n",
       "       'y_prob': 99.9396551724138,\n",
       "       'level': 6,\n",
       "       'split': -1,\n",
       "       'n_samples': 114,\n",
       "       'gain': 0},\n",
       "      'sr': {'y_pred': 1,\n",
       "       'y_prob': 119.62931034482759,\n",
       "       'level': 6,\n",
       "       'split': -1,\n",
       "       'n_samples': 114,\n",
       "       'gain': 0}},\n",
       "     'sr': {'y_pred': 1,\n",
       "      'y_prob': 87.76724137931035,\n",
       "      'level': 5,\n",
       "      'split': -1,\n",
       "      'n_samples': 114,\n",
       "      'gain': 0}}}}}}"
      ]
     },
     "execution_count": 26,
     "metadata": {},
     "output_type": "execute_result"
    }
   ],
   "source": [
    "tree = tree_grow(X, y, level=0, min_gain=0.001, max_depth=6, num_pct=10)\n",
    "tree"
   ]
  },
  {
   "cell_type": "code",
   "execution_count": 27,
   "metadata": {},
   "outputs": [
    {
     "data": {
      "text/html": [
       "<div>\n",
       "<style scoped>\n",
       "    .dataframe tbody tr th:only-of-type {\n",
       "        vertical-align: middle;\n",
       "    }\n",
       "\n",
       "    .dataframe tbody tr th {\n",
       "        vertical-align: top;\n",
       "    }\n",
       "\n",
       "    .dataframe thead th {\n",
       "        text-align: right;\n",
       "    }\n",
       "</style>\n",
       "<table border=\"1\" class=\"dataframe\">\n",
       "  <thead>\n",
       "    <tr style=\"text-align: right;\">\n",
       "      <th></th>\n",
       "      <th>real</th>\n",
       "      <th>pred</th>\n",
       "    </tr>\n",
       "    <tr>\n",
       "      <th>datetime</th>\n",
       "      <th></th>\n",
       "      <th></th>\n",
       "    </tr>\n",
       "  </thead>\n",
       "  <tbody>\n",
       "    <tr>\n",
       "      <th>2011-07-19 11:00:00</th>\n",
       "      <td>127</td>\n",
       "      <td>290.407765</td>\n",
       "    </tr>\n",
       "    <tr>\n",
       "      <th>2012-01-16 06:00:00</th>\n",
       "      <td>13</td>\n",
       "      <td>32.666356</td>\n",
       "    </tr>\n",
       "    <tr>\n",
       "      <th>2011-12-11 18:00:00</th>\n",
       "      <td>163</td>\n",
       "      <td>290.407765</td>\n",
       "    </tr>\n",
       "    <tr>\n",
       "      <th>2012-08-15 10:00:00</th>\n",
       "      <td>233</td>\n",
       "      <td>290.407765</td>\n",
       "    </tr>\n",
       "    <tr>\n",
       "      <th>2012-06-15 23:00:00</th>\n",
       "      <td>222</td>\n",
       "      <td>131.254089</td>\n",
       "    </tr>\n",
       "    <tr>\n",
       "      <th>...</th>\n",
       "      <td>...</td>\n",
       "      <td>...</td>\n",
       "    </tr>\n",
       "    <tr>\n",
       "      <th>2011-12-15 15:00:00</th>\n",
       "      <td>82</td>\n",
       "      <td>290.407765</td>\n",
       "    </tr>\n",
       "    <tr>\n",
       "      <th>2011-12-11 20:00:00</th>\n",
       "      <td>72</td>\n",
       "      <td>290.407765</td>\n",
       "    </tr>\n",
       "    <tr>\n",
       "      <th>2012-07-18 09:00:00</th>\n",
       "      <td>297</td>\n",
       "      <td>290.407765</td>\n",
       "    </tr>\n",
       "    <tr>\n",
       "      <th>2011-08-12 18:00:00</th>\n",
       "      <td>465</td>\n",
       "      <td>290.407765</td>\n",
       "    </tr>\n",
       "    <tr>\n",
       "      <th>2012-04-09 16:00:00</th>\n",
       "      <td>391</td>\n",
       "      <td>290.407765</td>\n",
       "    </tr>\n",
       "  </tbody>\n",
       "</table>\n",
       "<p>3593 rows × 2 columns</p>\n",
       "</div>"
      ],
      "text/plain": [
       "                     real        pred\n",
       "datetime                             \n",
       "2011-07-19 11:00:00   127  290.407765\n",
       "2012-01-16 06:00:00    13   32.666356\n",
       "2011-12-11 18:00:00   163  290.407765\n",
       "2012-08-15 10:00:00   233  290.407765\n",
       "2012-06-15 23:00:00   222  131.254089\n",
       "...                   ...         ...\n",
       "2011-12-15 15:00:00    82  290.407765\n",
       "2011-12-11 20:00:00    72  290.407765\n",
       "2012-07-18 09:00:00   297  290.407765\n",
       "2011-08-12 18:00:00   465  290.407765\n",
       "2012-04-09 16:00:00   391  290.407765\n",
       "\n",
       "[3593 rows x 2 columns]"
      ]
     },
     "execution_count": 27,
     "metadata": {},
     "output_type": "execute_result"
    }
   ],
   "source": [
    "\n",
    "#Se define la función para crear el arbol\n",
    "\n",
    "def tree_predict(X, tree, proba=True):\n",
    "    \n",
    "    predicted = np.ones(X.shape[0])\n",
    "\n",
    "    # Check if final node\n",
    "    if tree['split'] == -1:\n",
    "        if not proba:\n",
    "            predicted = predicted * tree['y_pred']\n",
    "        else:\n",
    "            predicted = predicted * tree['y_prob']\n",
    "            \n",
    "    else:\n",
    "        \n",
    "        j, split = tree['split']\n",
    "        filter_l = (X.iloc[:, j] < split)\n",
    "        X_l = X.loc[filter_l]\n",
    "        X_r = X.loc[~filter_l]\n",
    "\n",
    "        if X_l.shape[0] == 0:  # If left node is empty only continue with right\n",
    "            predicted[~filter_l] = tree_predict(X_r, tree['sr'], proba)\n",
    "        elif X_r.shape[0] == 0:  # If right node is empty only continue with left\n",
    "            predicted[filter_l] = tree_predict(X_l, tree['sl'], proba)\n",
    "        else:\n",
    "            predicted[filter_l] = tree_predict(X_l, tree['sl'], proba)\n",
    "            predicted[~filter_l] = tree_predict(X_r, tree['sr'], proba)\n",
    "\n",
    "    return predicted\n",
    "\n",
    "\n",
    "tree=tree_grow(X_train, y_train, level=1, min_gain=0.001, max_depth=3, num_pct=10)\n",
    "\n",
    "df = pd.DataFrame({'real':y_test, 'pred':tree_predict(X_test, tree)})\n",
    "df"
   ]
  },
  {
   "cell_type": "code",
   "execution_count": 28,
   "metadata": {},
   "outputs": [],
   "source": [
    "y_pred=tree_predict(X_test, tree)\n"
   ]
  },
  {
   "cell_type": "code",
   "execution_count": 29,
   "metadata": {},
   "outputs": [
    {
     "name": "stdout",
     "output_type": "stream",
     "text": [
      "[[-3.37850741e+11]\n",
      " [-3.37850741e+11]\n",
      " [-2.67476614e+11]\n",
      " ...\n",
      " [-2.67476614e+11]\n",
      " [-2.67476614e+11]\n",
      " [-3.37850741e+11]]\n",
      "Mean Squared Error: MSE 20349.180090978403\n",
      "Root Mean Squared Error RMSE: 142.65055236829053\n"
     ]
    }
   ],
   "source": [
    "import sklearn.metrics as metrics\n",
    "\n",
    "print(predicciones)\n",
    "print('Mean Squared Error: MSE', metrics.mean_squared_error(y_test, y_pred))\n",
    "print('Root Mean Squared Error RMSE:', np.sqrt(metrics.mean_squared_error(y_test, y_pred)))"
   ]
  },
  {
   "cell_type": "code",
   "execution_count": null,
   "metadata": {},
   "outputs": [],
   "source": [
    "\n"
   ]
  },
  {
   "cell_type": "markdown",
   "metadata": {},
   "source": [
    "### Punto 5 - Árbol de decisión con librería\n",
    "En la celda 5 entrene un árbol de decisiones con la **librería sklearn**, usando las variables predictoras \"season\" y \"hour\" y calibre los parámetros que considere conveniente para obtener un mejor desempeño. Recuerde dividir los datos en conjuntos de entrenamiento y validación para esto. Comente el desempeño del modelo con alguna métrica de desempeño de modelos de regresión y compare desempeño con el modelo del punto 3."
   ]
  },
  {
   "cell_type": "code",
   "execution_count": 30,
   "metadata": {},
   "outputs": [
    {
     "data": {
      "text/plain": [
       "Text(0, 0.5, 'Accuracy')"
      ]
     },
     "execution_count": 30,
     "metadata": {},
     "output_type": "execute_result"
    },
    {
     "data": {
      "image/png": "[encoded data removed]",
      "text/plain": [
       "<Figure size 640x480 with 1 Axes>"
      ]
     },
     "metadata": {},
     "output_type": "display_data"
    }
   ],
   "source": [
    "# Celda 5\n",
    "# Lista de valores para calibrar el criterio de parada de máxima profundidad (max_depth)\n",
    "import matplotlib.pyplot as plt\n",
    "\n",
    "max_depth_range = range(1, 6)\n",
    "\n",
    "# Lista para guardar los valores del RMSE para cada valor de máxima profundidad (max_depth)\n",
    "accuracy_scores = []\n",
    "\n",
    "\n",
    "\n",
    "# Loop para obtener el desempeño del modelo de acuerdo con la máxima profundidad\n",
    "for depth in max_depth_range:\n",
    "    # Definición del árbol de decisión usando DecisionTreeClassifier de la libreria sklearn\n",
    "    clf = DecisionTreeClassifier(max_depth=depth, random_state=1)\n",
    "    accuracy_scores.append(cross_val_score(clf, X, y, cv=10, scoring='accuracy').mean())\n",
    "    \n",
    "# Gráfica max_depth versus RMSE (error del modelo)\n",
    "plt.plot(max_depth_range, accuracy_scores)\n",
    "plt.xlabel('max_depth')\n",
    "plt.ylabel('Accuracy')"
   ]
  },
  {
   "cell_type": "code",
   "execution_count": 31,
   "metadata": {},
   "outputs": [
    {
     "data": {
      "text/plain": [
       "(0.02369964686976719, 3)"
      ]
     },
     "execution_count": 31,
     "metadata": {},
     "output_type": "execute_result"
    }
   ],
   "source": [
    "# Mejor accuracy (desempeño del modelo) y su correspondiente max_depth\n",
    "sorted(zip(accuracy_scores, max_depth_range))[::-1][1]"
   ]
  },
  {
   "cell_type": "code",
   "execution_count": 32,
   "metadata": {},
   "outputs": [
    {
     "data": {
      "text/plain": [
       "count    10.000000\n",
       "mean      0.023700\n",
       "std       0.008448\n",
       "min       0.011029\n",
       "25%       0.017447\n",
       "50%       0.024344\n",
       "75%       0.028493\n",
       "max       0.035813\n",
       "dtype: float64"
      ]
     },
     "execution_count": 32,
     "metadata": {},
     "output_type": "execute_result"
    }
   ],
   "source": [
    "# max_depth=4 fue el mejor, se ajusta un árbol usando este valor \n",
    "clf = DecisionTreeClassifier(max_depth=3, random_state=10)\n",
    "clf.fit(X, y)\n",
    "\n",
    "# Impresión de resultados de desemepeño del árbol de decisión\n",
    "pd.Series(cross_val_score(clf, X, y, cv=10)).describe()"
   ]
  },
  {
   "cell_type": "code",
   "execution_count": 33,
   "metadata": {},
   "outputs": [
    {
     "data": {
      "text/html": [
       "<style>#sk-container-id-1 {color: black;background-color: white;}#sk-container-id-1 pre{padding: 0;}#sk-container-id-1 div.sk-toggleable {background-color: white;}#sk-container-id-1 label.sk-toggleable__label {cursor: pointer;display: block;width: 100%;margin-bottom: 0;padding: 0.3em;box-sizing: border-box;text-align: center;}#sk-container-id-1 label.sk-toggleable__label-arrow:before {content: \"▸\";float: left;margin-right: 0.25em;color: #696969;}#sk-container-id-1 label.sk-toggleable__label-arrow:hover:before {color: black;}#sk-container-id-1 div.sk-estimator:hover label.sk-toggleable__label-arrow:before {color: black;}#sk-container-id-1 div.sk-toggleable__content {max-height: 0;max-width: 0;overflow: hidden;text-align: left;background-color: #f0f8ff;}#sk-container-id-1 div.sk-toggleable__content pre {margin: 0.2em;color: black;border-radius: 0.25em;background-color: #f0f8ff;}#sk-container-id-1 input.sk-toggleable__control:checked~div.sk-toggleable__content {max-height: 200px;max-width: 100%;overflow: auto;}#sk-container-id-1 input.sk-toggleable__control:checked~label.sk-toggleable__label-arrow:before {content: \"▾\";}#sk-container-id-1 div.sk-estimator input.sk-toggleable__control:checked~label.sk-toggleable__label {background-color: #d4ebff;}#sk-container-id-1 div.sk-label input.sk-toggleable__control:checked~label.sk-toggleable__label {background-color: #d4ebff;}#sk-container-id-1 input.sk-hidden--visually {border: 0;clip: rect(1px 1px 1px 1px);clip: rect(1px, 1px, 1px, 1px);height: 1px;margin: -1px;overflow: hidden;padding: 0;position: absolute;width: 1px;}#sk-container-id-1 div.sk-estimator {font-family: monospace;background-color: #f0f8ff;border: 1px dotted black;border-radius: 0.25em;box-sizing: border-box;margin-bottom: 0.5em;}#sk-container-id-1 div.sk-estimator:hover {background-color: #d4ebff;}#sk-container-id-1 div.sk-parallel-item::after {content: \"\";width: 100%;border-bottom: 1px solid gray;flex-grow: 1;}#sk-container-id-1 div.sk-label:hover label.sk-toggleable__label {background-color: #d4ebff;}#sk-container-id-1 div.sk-serial::before {content: \"\";position: absolute;border-left: 1px solid gray;box-sizing: border-box;top: 0;bottom: 0;left: 50%;z-index: 0;}#sk-container-id-1 div.sk-serial {display: flex;flex-direction: column;align-items: center;background-color: white;padding-right: 0.2em;padding-left: 0.2em;position: relative;}#sk-container-id-1 div.sk-item {position: relative;z-index: 1;}#sk-container-id-1 div.sk-parallel {display: flex;align-items: stretch;justify-content: center;background-color: white;position: relative;}#sk-container-id-1 div.sk-item::before, #sk-container-id-1 div.sk-parallel-item::before {content: \"\";position: absolute;border-left: 1px solid gray;box-sizing: border-box;top: 0;bottom: 0;left: 50%;z-index: -1;}#sk-container-id-1 div.sk-parallel-item {display: flex;flex-direction: column;z-index: 1;position: relative;background-color: white;}#sk-container-id-1 div.sk-parallel-item:first-child::after {align-self: flex-end;width: 50%;}#sk-container-id-1 div.sk-parallel-item:last-child::after {align-self: flex-start;width: 50%;}#sk-container-id-1 div.sk-parallel-item:only-child::after {width: 0;}#sk-container-id-1 div.sk-dashed-wrapped {border: 1px dashed gray;margin: 0 0.4em 0.5em 0.4em;box-sizing: border-box;padding-bottom: 0.4em;background-color: white;}#sk-container-id-1 div.sk-label label {font-family: monospace;font-weight: bold;display: inline-block;line-height: 1.2em;}#sk-container-id-1 div.sk-label-container {text-align: center;}#sk-container-id-1 div.sk-container {/* jupyter's `normalize.less` sets `[hidden] { display: none; }` but bootstrap.min.css set `[hidden] { display: none !important; }` so we also need the `!important` here to be able to override the default hidden behavior on the sphinx rendered scikit-learn.org. See: https://github.com/scikit-learn/scikit-learn/issues/21755 */display: inline-block !important;position: relative;}#sk-container-id-1 div.sk-text-repr-fallback {display: none;}</style><div id=\"sk-container-id-1\" class=\"sk-top-container\"><div class=\"sk-text-repr-fallback\"><pre>DecisionTreeClassifier()</pre><b>In a Jupyter environment, please rerun this cell to show the HTML representation or trust the notebook. <br />On GitHub, the HTML representation is unable to render, please try loading this page with nbviewer.org.</b></div><div class=\"sk-container\" hidden><div class=\"sk-item\"><div class=\"sk-estimator sk-toggleable\"><input class=\"sk-toggleable__control sk-hidden--visually\" id=\"sk-estimator-id-1\" type=\"checkbox\" checked><label for=\"sk-estimator-id-1\" class=\"sk-toggleable__label sk-toggleable__label-arrow\">DecisionTreeClassifier</label><div class=\"sk-toggleable__content\"><pre>DecisionTreeClassifier()</pre></div></div></div></div></div>"
      ],
      "text/plain": [
       "DecisionTreeClassifier()"
      ]
     },
     "execution_count": 33,
     "metadata": {},
     "output_type": "execute_result"
    }
   ],
   "source": [
    "clfTree = DecisionTreeClassifier()\n",
    "clfTree.fit(X_train, y_train)"
   ]
  },
  {
   "cell_type": "code",
   "execution_count": 34,
   "metadata": {},
   "outputs": [
    {
     "name": "stdout",
     "output_type": "stream",
     "text": [
      "Filas y columnas de base de datos: (10886, 2)\n",
      "Filas y columnas de XTrain: (7293, 2)\n",
      "Filas y columnas de XTest: (3593, 2)\n",
      "Filas y columnas de yTrain: (7293,)\n",
      "Filas y columnas de yTest: (3593,)\n"
     ]
    }
   ],
   "source": [
    "X_train, y_train\n",
    "print('Filas y columnas de base de datos:',X.shape)\n",
    "print('Filas y columnas de XTrain:',X_train.shape)\n",
    "print('Filas y columnas de XTest:',X_test.shape)\n",
    "print('Filas y columnas de yTrain:',y_train.shape)\n",
    "print('Filas y columnas de yTest:',y_test.shape)\n"
   ]
  },
  {
   "cell_type": "code",
   "execution_count": 35,
   "metadata": {},
   "outputs": [
    {
     "data": {
      "text/html": [
       "<style>#sk-container-id-2 {color: black;background-color: white;}#sk-container-id-2 pre{padding: 0;}#sk-container-id-2 div.sk-toggleable {background-color: white;}#sk-container-id-2 label.sk-toggleable__label {cursor: pointer;display: block;width: 100%;margin-bottom: 0;padding: 0.3em;box-sizing: border-box;text-align: center;}#sk-container-id-2 label.sk-toggleable__label-arrow:before {content: \"▸\";float: left;margin-right: 0.25em;color: #696969;}#sk-container-id-2 label.sk-toggleable__label-arrow:hover:before {color: black;}#sk-container-id-2 div.sk-estimator:hover label.sk-toggleable__label-arrow:before {color: black;}#sk-container-id-2 div.sk-toggleable__content {max-height: 0;max-width: 0;overflow: hidden;text-align: left;background-color: #f0f8ff;}#sk-container-id-2 div.sk-toggleable__content pre {margin: 0.2em;color: black;border-radius: 0.25em;background-color: #f0f8ff;}#sk-container-id-2 input.sk-toggleable__control:checked~div.sk-toggleable__content {max-height: 200px;max-width: 100%;overflow: auto;}#sk-container-id-2 input.sk-toggleable__control:checked~label.sk-toggleable__label-arrow:before {content: \"▾\";}#sk-container-id-2 div.sk-estimator input.sk-toggleable__control:checked~label.sk-toggleable__label {background-color: #d4ebff;}#sk-container-id-2 div.sk-label input.sk-toggleable__control:checked~label.sk-toggleable__label {background-color: #d4ebff;}#sk-container-id-2 input.sk-hidden--visually {border: 0;clip: rect(1px 1px 1px 1px);clip: rect(1px, 1px, 1px, 1px);height: 1px;margin: -1px;overflow: hidden;padding: 0;position: absolute;width: 1px;}#sk-container-id-2 div.sk-estimator {font-family: monospace;background-color: #f0f8ff;border: 1px dotted black;border-radius: 0.25em;box-sizing: border-box;margin-bottom: 0.5em;}#sk-container-id-2 div.sk-estimator:hover {background-color: #d4ebff;}#sk-container-id-2 div.sk-parallel-item::after {content: \"\";width: 100%;border-bottom: 1px solid gray;flex-grow: 1;}#sk-container-id-2 div.sk-label:hover label.sk-toggleable__label {background-color: #d4ebff;}#sk-container-id-2 div.sk-serial::before {content: \"\";position: absolute;border-left: 1px solid gray;box-sizing: border-box;top: 0;bottom: 0;left: 50%;z-index: 0;}#sk-container-id-2 div.sk-serial {display: flex;flex-direction: column;align-items: center;background-color: white;padding-right: 0.2em;padding-left: 0.2em;position: relative;}#sk-container-id-2 div.sk-item {position: relative;z-index: 1;}#sk-container-id-2 div.sk-parallel {display: flex;align-items: stretch;justify-content: center;background-color: white;position: relative;}#sk-container-id-2 div.sk-item::before, #sk-container-id-2 div.sk-parallel-item::before {content: \"\";position: absolute;border-left: 1px solid gray;box-sizing: border-box;top: 0;bottom: 0;left: 50%;z-index: -1;}#sk-container-id-2 div.sk-parallel-item {display: flex;flex-direction: column;z-index: 1;position: relative;background-color: white;}#sk-container-id-2 div.sk-parallel-item:first-child::after {align-self: flex-end;width: 50%;}#sk-container-id-2 div.sk-parallel-item:last-child::after {align-self: flex-start;width: 50%;}#sk-container-id-2 div.sk-parallel-item:only-child::after {width: 0;}#sk-container-id-2 div.sk-dashed-wrapped {border: 1px dashed gray;margin: 0 0.4em 0.5em 0.4em;box-sizing: border-box;padding-bottom: 0.4em;background-color: white;}#sk-container-id-2 div.sk-label label {font-family: monospace;font-weight: bold;display: inline-block;line-height: 1.2em;}#sk-container-id-2 div.sk-label-container {text-align: center;}#sk-container-id-2 div.sk-container {/* jupyter's `normalize.less` sets `[hidden] { display: none; }` but bootstrap.min.css set `[hidden] { display: none !important; }` so we also need the `!important` here to be able to override the default hidden behavior on the sphinx rendered scikit-learn.org. See: https://github.com/scikit-learn/scikit-learn/issues/21755 */display: inline-block !important;position: relative;}#sk-container-id-2 div.sk-text-repr-fallback {display: none;}</style><div id=\"sk-container-id-2\" class=\"sk-top-container\"><div class=\"sk-text-repr-fallback\"><pre>DecisionTreeClassifier()</pre><b>In a Jupyter environment, please rerun this cell to show the HTML representation or trust the notebook. <br />On GitHub, the HTML representation is unable to render, please try loading this page with nbviewer.org.</b></div><div class=\"sk-container\" hidden><div class=\"sk-item\"><div class=\"sk-estimator sk-toggleable\"><input class=\"sk-toggleable__control sk-hidden--visually\" id=\"sk-estimator-id-2\" type=\"checkbox\" checked><label for=\"sk-estimator-id-2\" class=\"sk-toggleable__label sk-toggleable__label-arrow\">DecisionTreeClassifier</label><div class=\"sk-toggleable__content\"><pre>DecisionTreeClassifier()</pre></div></div></div></div></div>"
      ],
      "text/plain": [
       "DecisionTreeClassifier()"
      ]
     },
     "execution_count": 35,
     "metadata": {},
     "output_type": "execute_result"
    }
   ],
   "source": [
    "clfTree = DecisionTreeClassifier()\n",
    "clfTree.fit(X_train, y_train)"
   ]
  },
  {
   "cell_type": "code",
   "execution_count": 36,
   "metadata": {},
   "outputs": [
    {
     "data": {
      "image/png": "[encoded data removed]",
      "text/plain": [
       "<Figure size 640x480 with 1 Axes>"
      ]
     },
     "metadata": {},
     "output_type": "display_data"
    }
   ],
   "source": [
    "plot_tree(clfTree,max_depth=6)\n",
    "plt.show()"
   ]
  },
  {
   "cell_type": "code",
   "execution_count": 37,
   "metadata": {},
   "outputs": [
    {
     "data": {
      "text/plain": [
       "[0.018188570193917786,\n",
       " 0.017544934640522876,\n",
       " 0.02369964686976719,\n",
       " 0.025261134067952253,\n",
       " 0.02351641414141414]"
      ]
     },
     "execution_count": 37,
     "metadata": {},
     "output_type": "execute_result"
    }
   ],
   "source": [
    "accuracy_scores"
   ]
  },
  {
   "cell_type": "code",
   "execution_count": 38,
   "metadata": {},
   "outputs": [
    {
     "data": {
      "text/plain": [
       "(0.02369964686976719, 3)"
      ]
     },
     "execution_count": 38,
     "metadata": {},
     "output_type": "execute_result"
    }
   ],
   "source": [
    "# Mejor accuracy (desempeño del modelo) y su correspondiente max_depth\n",
    "sorted(zip(accuracy_scores, max_depth_range))[::-1][1]"
   ]
  },
  {
   "cell_type": "code",
   "execution_count": null,
   "metadata": {},
   "outputs": [],
   "source": []
  },
  {
   "cell_type": "markdown",
   "metadata": {},
   "source": [
    "## Parte B - Métodos de ensamblajes\n",
    "En esta parte del taller se usará el conjunto de datos de Popularidad de Noticias Online. El objetivo es predecir si la notica es popular o no, la popularidad está dada por la cantidad de reacciones en redes sociales. Para más detalles puede visitar el siguiente enlace: [datos](https://archive.ics.uci.edu/ml/datasets/online+news+popularity)."
   ]
  },
  {
   "cell_type": "markdown",
   "metadata": {},
   "source": [
    "### Datos popularidad de noticias"
   ]
  },
  {
   "cell_type": "code",
   "execution_count": 39,
   "metadata": {},
   "outputs": [
    {
     "data": {
      "text/html": [
       "<div>\n",
       "<style scoped>\n",
       "    .dataframe tbody tr th:only-of-type {\n",
       "        vertical-align: middle;\n",
       "    }\n",
       "\n",
       "    .dataframe tbody tr th {\n",
       "        vertical-align: top;\n",
       "    }\n",
       "\n",
       "    .dataframe thead th {\n",
       "        text-align: right;\n",
       "    }\n",
       "</style>\n",
       "<table border=\"1\" class=\"dataframe\">\n",
       "  <thead>\n",
       "    <tr style=\"text-align: right;\">\n",
       "      <th></th>\n",
       "      <th>url</th>\n",
       "      <th>timedelta</th>\n",
       "      <th>n_tokens_title</th>\n",
       "      <th>n_tokens_content</th>\n",
       "      <th>n_unique_tokens</th>\n",
       "      <th>n_non_stop_words</th>\n",
       "      <th>n_non_stop_unique_tokens</th>\n",
       "      <th>num_hrefs</th>\n",
       "      <th>num_self_hrefs</th>\n",
       "      <th>num_imgs</th>\n",
       "      <th>...</th>\n",
       "      <th>min_positive_polarity</th>\n",
       "      <th>max_positive_polarity</th>\n",
       "      <th>avg_negative_polarity</th>\n",
       "      <th>min_negative_polarity</th>\n",
       "      <th>max_negative_polarity</th>\n",
       "      <th>title_subjectivity</th>\n",
       "      <th>title_sentiment_polarity</th>\n",
       "      <th>abs_title_subjectivity</th>\n",
       "      <th>abs_title_sentiment_polarity</th>\n",
       "      <th>Popular</th>\n",
       "    </tr>\n",
       "  </thead>\n",
       "  <tbody>\n",
       "    <tr>\n",
       "      <th>0</th>\n",
       "      <td>http://mashable.com/2014/12/10/cia-torture-rep...</td>\n",
       "      <td>28.0</td>\n",
       "      <td>9.0</td>\n",
       "      <td>188.0</td>\n",
       "      <td>0.732620</td>\n",
       "      <td>1.0</td>\n",
       "      <td>0.844262</td>\n",
       "      <td>5.0</td>\n",
       "      <td>1.0</td>\n",
       "      <td>1.0</td>\n",
       "      <td>...</td>\n",
       "      <td>0.200000</td>\n",
       "      <td>0.80</td>\n",
       "      <td>-0.487500</td>\n",
       "      <td>-0.60</td>\n",
       "      <td>-0.250000</td>\n",
       "      <td>0.9</td>\n",
       "      <td>0.8</td>\n",
       "      <td>0.4</td>\n",
       "      <td>0.8</td>\n",
       "      <td>1</td>\n",
       "    </tr>\n",
       "    <tr>\n",
       "      <th>1</th>\n",
       "      <td>http://mashable.com/2013/10/18/bitlock-kicksta...</td>\n",
       "      <td>447.0</td>\n",
       "      <td>7.0</td>\n",
       "      <td>297.0</td>\n",
       "      <td>0.653199</td>\n",
       "      <td>1.0</td>\n",
       "      <td>0.815789</td>\n",
       "      <td>9.0</td>\n",
       "      <td>4.0</td>\n",
       "      <td>1.0</td>\n",
       "      <td>...</td>\n",
       "      <td>0.160000</td>\n",
       "      <td>0.50</td>\n",
       "      <td>-0.135340</td>\n",
       "      <td>-0.40</td>\n",
       "      <td>-0.050000</td>\n",
       "      <td>0.1</td>\n",
       "      <td>-0.1</td>\n",
       "      <td>0.4</td>\n",
       "      <td>0.1</td>\n",
       "      <td>0</td>\n",
       "    </tr>\n",
       "    <tr>\n",
       "      <th>2</th>\n",
       "      <td>http://mashable.com/2013/07/24/google-glass-po...</td>\n",
       "      <td>533.0</td>\n",
       "      <td>11.0</td>\n",
       "      <td>181.0</td>\n",
       "      <td>0.660377</td>\n",
       "      <td>1.0</td>\n",
       "      <td>0.775701</td>\n",
       "      <td>4.0</td>\n",
       "      <td>3.0</td>\n",
       "      <td>1.0</td>\n",
       "      <td>...</td>\n",
       "      <td>0.136364</td>\n",
       "      <td>1.00</td>\n",
       "      <td>0.000000</td>\n",
       "      <td>0.00</td>\n",
       "      <td>0.000000</td>\n",
       "      <td>0.3</td>\n",
       "      <td>1.0</td>\n",
       "      <td>0.2</td>\n",
       "      <td>1.0</td>\n",
       "      <td>0</td>\n",
       "    </tr>\n",
       "    <tr>\n",
       "      <th>3</th>\n",
       "      <td>http://mashable.com/2013/11/21/these-are-the-m...</td>\n",
       "      <td>413.0</td>\n",
       "      <td>12.0</td>\n",
       "      <td>781.0</td>\n",
       "      <td>0.497409</td>\n",
       "      <td>1.0</td>\n",
       "      <td>0.677350</td>\n",
       "      <td>10.0</td>\n",
       "      <td>3.0</td>\n",
       "      <td>1.0</td>\n",
       "      <td>...</td>\n",
       "      <td>0.100000</td>\n",
       "      <td>1.00</td>\n",
       "      <td>-0.195701</td>\n",
       "      <td>-0.40</td>\n",
       "      <td>-0.071429</td>\n",
       "      <td>0.0</td>\n",
       "      <td>0.0</td>\n",
       "      <td>0.5</td>\n",
       "      <td>0.0</td>\n",
       "      <td>0</td>\n",
       "    </tr>\n",
       "    <tr>\n",
       "      <th>4</th>\n",
       "      <td>http://mashable.com/2014/02/11/parking-ticket-...</td>\n",
       "      <td>331.0</td>\n",
       "      <td>8.0</td>\n",
       "      <td>177.0</td>\n",
       "      <td>0.685714</td>\n",
       "      <td>1.0</td>\n",
       "      <td>0.830357</td>\n",
       "      <td>3.0</td>\n",
       "      <td>2.0</td>\n",
       "      <td>1.0</td>\n",
       "      <td>...</td>\n",
       "      <td>0.100000</td>\n",
       "      <td>0.55</td>\n",
       "      <td>-0.175000</td>\n",
       "      <td>-0.25</td>\n",
       "      <td>-0.100000</td>\n",
       "      <td>0.0</td>\n",
       "      <td>0.0</td>\n",
       "      <td>0.5</td>\n",
       "      <td>0.0</td>\n",
       "      <td>0</td>\n",
       "    </tr>\n",
       "  </tbody>\n",
       "</table>\n",
       "<p>5 rows × 61 columns</p>\n",
       "</div>"
      ],
      "text/plain": [
       "                                                 url  timedelta  \\\n",
       "0  http://mashable.com/2014/12/10/cia-torture-rep...       28.0   \n",
       "1  http://mashable.com/2013/10/18/bitlock-kicksta...      447.0   \n",
       "2  http://mashable.com/2013/07/24/google-glass-po...      533.0   \n",
       "3  http://mashable.com/2013/11/21/these-are-the-m...      413.0   \n",
       "4  http://mashable.com/2014/02/11/parking-ticket-...      331.0   \n",
       "\n",
       "   n_tokens_title  n_tokens_content  n_unique_tokens  n_non_stop_words  \\\n",
       "0             9.0             188.0         0.732620               1.0   \n",
       "1             7.0             297.0         0.653199               1.0   \n",
       "2            11.0             181.0         0.660377               1.0   \n",
       "3            12.0             781.0         0.497409               1.0   \n",
       "4             8.0             177.0         0.685714               1.0   \n",
       "\n",
       "   n_non_stop_unique_tokens  num_hrefs  num_self_hrefs  num_imgs  ...  \\\n",
       "0                  0.844262        5.0             1.0       1.0  ...   \n",
       "1                  0.815789        9.0             4.0       1.0  ...   \n",
       "2                  0.775701        4.0             3.0       1.0  ...   \n",
       "3                  0.677350       10.0             3.0       1.0  ...   \n",
       "4                  0.830357        3.0             2.0       1.0  ...   \n",
       "\n",
       "   min_positive_polarity  max_positive_polarity  avg_negative_polarity  \\\n",
       "0               0.200000                   0.80              -0.487500   \n",
       "1               0.160000                   0.50              -0.135340   \n",
       "2               0.136364                   1.00               0.000000   \n",
       "3               0.100000                   1.00              -0.195701   \n",
       "4               0.100000                   0.55              -0.175000   \n",
       "\n",
       "   min_negative_polarity  max_negative_polarity  title_subjectivity  \\\n",
       "0                  -0.60              -0.250000                 0.9   \n",
       "1                  -0.40              -0.050000                 0.1   \n",
       "2                   0.00               0.000000                 0.3   \n",
       "3                  -0.40              -0.071429                 0.0   \n",
       "4                  -0.25              -0.100000                 0.0   \n",
       "\n",
       "   title_sentiment_polarity  abs_title_subjectivity  \\\n",
       "0                       0.8                     0.4   \n",
       "1                      -0.1                     0.4   \n",
       "2                       1.0                     0.2   \n",
       "3                       0.0                     0.5   \n",
       "4                       0.0                     0.5   \n",
       "\n",
       "   abs_title_sentiment_polarity  Popular  \n",
       "0                           0.8        1  \n",
       "1                           0.1        0  \n",
       "2                           1.0        0  \n",
       "3                           0.0        0  \n",
       "4                           0.0        0  \n",
       "\n",
       "[5 rows x 61 columns]"
      ]
     },
     "execution_count": 39,
     "metadata": {},
     "output_type": "execute_result"
    }
   ],
   "source": [
    "# Lectura de la información de archivo .csv\n",
    "df = pd.read_csv('https://raw.githubusercontent.com/davidzarruk/MIAD_ML_NLP_2023/main/datasets/mashable.csv', index_col=0)\n",
    "df.head()"
   ]
  },
  {
   "cell_type": "code",
   "execution_count": 40,
   "metadata": {},
   "outputs": [
    {
     "name": "stdout",
     "output_type": "stream",
     "text": [
      "<class 'pandas.core.frame.DataFrame'>\n",
      "Int64Index: 6000 entries, 0 to 5999\n",
      "Data columns (total 61 columns):\n",
      " #   Column                         Non-Null Count  Dtype  \n",
      "---  ------                         --------------  -----  \n",
      " 0   url                            6000 non-null   object \n",
      " 1   timedelta                      6000 non-null   float64\n",
      " 2   n_tokens_title                 6000 non-null   float64\n",
      " 3   n_tokens_content               6000 non-null   float64\n",
      " 4   n_unique_tokens                6000 non-null   float64\n",
      " 5   n_non_stop_words               6000 non-null   float64\n",
      " 6   n_non_stop_unique_tokens       6000 non-null   float64\n",
      " 7   num_hrefs                      6000 non-null   float64\n",
      " 8   num_self_hrefs                 6000 non-null   float64\n",
      " 9   num_imgs                       6000 non-null   float64\n",
      " 10  num_videos                     6000 non-null   float64\n",
      " 11  average_token_length           6000 non-null   float64\n",
      " 12  num_keywords                   6000 non-null   float64\n",
      " 13  data_channel_is_lifestyle      6000 non-null   float64\n",
      " 14  data_channel_is_entertainment  6000 non-null   float64\n",
      " 15  data_channel_is_bus            6000 non-null   float64\n",
      " 16  data_channel_is_socmed         6000 non-null   float64\n",
      " 17  data_channel_is_tech           6000 non-null   float64\n",
      " 18  data_channel_is_world          6000 non-null   float64\n",
      " 19  kw_min_min                     6000 non-null   float64\n",
      " 20  kw_max_min                     6000 non-null   float64\n",
      " 21  kw_avg_min                     6000 non-null   float64\n",
      " 22  kw_min_max                     6000 non-null   float64\n",
      " 23  kw_max_max                     6000 non-null   float64\n",
      " 24  kw_avg_max                     6000 non-null   float64\n",
      " 25  kw_min_avg                     6000 non-null   float64\n",
      " 26  kw_max_avg                     6000 non-null   float64\n",
      " 27  kw_avg_avg                     6000 non-null   float64\n",
      " 28  self_reference_min_shares      6000 non-null   float64\n",
      " 29  self_reference_max_shares      6000 non-null   float64\n",
      " 30  self_reference_avg_sharess     6000 non-null   float64\n",
      " 31  weekday_is_monday              6000 non-null   float64\n",
      " 32  weekday_is_tuesday             6000 non-null   float64\n",
      " 33  weekday_is_wednesday           6000 non-null   float64\n",
      " 34  weekday_is_thursday            6000 non-null   float64\n",
      " 35  weekday_is_friday              6000 non-null   float64\n",
      " 36  weekday_is_saturday            6000 non-null   float64\n",
      " 37  weekday_is_sunday              6000 non-null   float64\n",
      " 38  is_weekend                     6000 non-null   float64\n",
      " 39  LDA_00                         6000 non-null   float64\n",
      " 40  LDA_01                         6000 non-null   float64\n",
      " 41  LDA_02                         6000 non-null   float64\n",
      " 42  LDA_03                         6000 non-null   float64\n",
      " 43  LDA_04                         6000 non-null   float64\n",
      " 44  global_subjectivity            6000 non-null   float64\n",
      " 45  global_sentiment_polarity      6000 non-null   float64\n",
      " 46  global_rate_positive_words     6000 non-null   float64\n",
      " 47  global_rate_negative_words     6000 non-null   float64\n",
      " 48  rate_positive_words            6000 non-null   float64\n",
      " 49  rate_negative_words            6000 non-null   float64\n",
      " 50  avg_positive_polarity          6000 non-null   float64\n",
      " 51  min_positive_polarity          6000 non-null   float64\n",
      " 52  max_positive_polarity          6000 non-null   float64\n",
      " 53  avg_negative_polarity          6000 non-null   float64\n",
      " 54  min_negative_polarity          6000 non-null   float64\n",
      " 55  max_negative_polarity          6000 non-null   float64\n",
      " 56  title_subjectivity             6000 non-null   float64\n",
      " 57  title_sentiment_polarity       6000 non-null   float64\n",
      " 58  abs_title_subjectivity         6000 non-null   float64\n",
      " 59  abs_title_sentiment_polarity   6000 non-null   float64\n",
      " 60  Popular                        6000 non-null   int64  \n",
      "dtypes: float64(59), int64(1), object(1)\n",
      "memory usage: 2.8+ MB\n"
     ]
    }
   ],
   "source": [
    "df.info()"
   ]
  },
  {
   "cell_type": "code",
   "execution_count": 41,
   "metadata": {},
   "outputs": [
    {
     "data": {
      "text/html": [
       "<div>\n",
       "<style scoped>\n",
       "    .dataframe tbody tr th:only-of-type {\n",
       "        vertical-align: middle;\n",
       "    }\n",
       "\n",
       "    .dataframe tbody tr th {\n",
       "        vertical-align: top;\n",
       "    }\n",
       "\n",
       "    .dataframe thead th {\n",
       "        text-align: right;\n",
       "    }\n",
       "</style>\n",
       "<table border=\"1\" class=\"dataframe\">\n",
       "  <thead>\n",
       "    <tr style=\"text-align: right;\">\n",
       "      <th></th>\n",
       "      <th>timedelta</th>\n",
       "      <th>n_tokens_title</th>\n",
       "      <th>n_tokens_content</th>\n",
       "      <th>n_unique_tokens</th>\n",
       "      <th>n_non_stop_words</th>\n",
       "      <th>n_non_stop_unique_tokens</th>\n",
       "      <th>num_hrefs</th>\n",
       "      <th>num_self_hrefs</th>\n",
       "      <th>num_imgs</th>\n",
       "      <th>num_videos</th>\n",
       "      <th>...</th>\n",
       "      <th>min_positive_polarity</th>\n",
       "      <th>max_positive_polarity</th>\n",
       "      <th>avg_negative_polarity</th>\n",
       "      <th>min_negative_polarity</th>\n",
       "      <th>max_negative_polarity</th>\n",
       "      <th>title_subjectivity</th>\n",
       "      <th>title_sentiment_polarity</th>\n",
       "      <th>abs_title_subjectivity</th>\n",
       "      <th>abs_title_sentiment_polarity</th>\n",
       "      <th>Popular</th>\n",
       "    </tr>\n",
       "  </thead>\n",
       "  <tbody>\n",
       "    <tr>\n",
       "      <th>count</th>\n",
       "      <td>6000.000000</td>\n",
       "      <td>6000.000000</td>\n",
       "      <td>6000.000000</td>\n",
       "      <td>6000.000000</td>\n",
       "      <td>6000.000000</td>\n",
       "      <td>6000.000000</td>\n",
       "      <td>6000.000000</td>\n",
       "      <td>6000.000000</td>\n",
       "      <td>6000.000000</td>\n",
       "      <td>6000.000000</td>\n",
       "      <td>...</td>\n",
       "      <td>6000.000000</td>\n",
       "      <td>6000.000000</td>\n",
       "      <td>6000.000000</td>\n",
       "      <td>6000.000000</td>\n",
       "      <td>6000.000000</td>\n",
       "      <td>6000.000000</td>\n",
       "      <td>6000.000000</td>\n",
       "      <td>6000.000000</td>\n",
       "      <td>6000.000000</td>\n",
       "      <td>6000.000000</td>\n",
       "    </tr>\n",
       "    <tr>\n",
       "      <th>mean</th>\n",
       "      <td>358.138833</td>\n",
       "      <td>10.368667</td>\n",
       "      <td>547.428833</td>\n",
       "      <td>0.527732</td>\n",
       "      <td>0.961333</td>\n",
       "      <td>0.665823</td>\n",
       "      <td>11.874000</td>\n",
       "      <td>3.272500</td>\n",
       "      <td>4.954667</td>\n",
       "      <td>1.463167</td>\n",
       "      <td>...</td>\n",
       "      <td>0.097194</td>\n",
       "      <td>0.762009</td>\n",
       "      <td>-0.265334</td>\n",
       "      <td>-0.530531</td>\n",
       "      <td>-0.110047</td>\n",
       "      <td>0.296854</td>\n",
       "      <td>0.077178</td>\n",
       "      <td>0.343496</td>\n",
       "      <td>0.167633</td>\n",
       "      <td>0.500000</td>\n",
       "    </tr>\n",
       "    <tr>\n",
       "      <th>std</th>\n",
       "      <td>210.734614</td>\n",
       "      <td>2.106140</td>\n",
       "      <td>510.232776</td>\n",
       "      <td>0.148356</td>\n",
       "      <td>0.192815</td>\n",
       "      <td>0.167740</td>\n",
       "      <td>13.444103</td>\n",
       "      <td>4.262895</td>\n",
       "      <td>8.635916</td>\n",
       "      <td>4.508144</td>\n",
       "      <td>...</td>\n",
       "      <td>0.076585</td>\n",
       "      <td>0.256845</td>\n",
       "      <td>0.133800</td>\n",
       "      <td>0.294477</td>\n",
       "      <td>0.100482</td>\n",
       "      <td>0.334117</td>\n",
       "      <td>0.282790</td>\n",
       "      <td>0.186815</td>\n",
       "      <td>0.240462</td>\n",
       "      <td>0.500042</td>\n",
       "    </tr>\n",
       "    <tr>\n",
       "      <th>min</th>\n",
       "      <td>9.000000</td>\n",
       "      <td>3.000000</td>\n",
       "      <td>0.000000</td>\n",
       "      <td>0.000000</td>\n",
       "      <td>0.000000</td>\n",
       "      <td>0.000000</td>\n",
       "      <td>0.000000</td>\n",
       "      <td>0.000000</td>\n",
       "      <td>0.000000</td>\n",
       "      <td>0.000000</td>\n",
       "      <td>...</td>\n",
       "      <td>0.000000</td>\n",
       "      <td>0.000000</td>\n",
       "      <td>-1.000000</td>\n",
       "      <td>-1.000000</td>\n",
       "      <td>-1.000000</td>\n",
       "      <td>0.000000</td>\n",
       "      <td>-1.000000</td>\n",
       "      <td>0.000000</td>\n",
       "      <td>0.000000</td>\n",
       "      <td>0.000000</td>\n",
       "    </tr>\n",
       "    <tr>\n",
       "      <th>25%</th>\n",
       "      <td>175.000000</td>\n",
       "      <td>9.000000</td>\n",
       "      <td>231.000000</td>\n",
       "      <td>0.465950</td>\n",
       "      <td>1.000000</td>\n",
       "      <td>0.619624</td>\n",
       "      <td>4.000000</td>\n",
       "      <td>1.000000</td>\n",
       "      <td>1.000000</td>\n",
       "      <td>0.000000</td>\n",
       "      <td>...</td>\n",
       "      <td>0.050000</td>\n",
       "      <td>0.600000</td>\n",
       "      <td>-0.340000</td>\n",
       "      <td>-0.714286</td>\n",
       "      <td>-0.125000</td>\n",
       "      <td>0.000000</td>\n",
       "      <td>0.000000</td>\n",
       "      <td>0.166667</td>\n",
       "      <td>0.000000</td>\n",
       "      <td>0.000000</td>\n",
       "    </tr>\n",
       "    <tr>\n",
       "      <th>50%</th>\n",
       "      <td>345.000000</td>\n",
       "      <td>10.000000</td>\n",
       "      <td>391.000000</td>\n",
       "      <td>0.541477</td>\n",
       "      <td>1.000000</td>\n",
       "      <td>0.689119</td>\n",
       "      <td>8.000000</td>\n",
       "      <td>2.000000</td>\n",
       "      <td>1.000000</td>\n",
       "      <td>0.000000</td>\n",
       "      <td>...</td>\n",
       "      <td>0.100000</td>\n",
       "      <td>0.800000</td>\n",
       "      <td>-0.260185</td>\n",
       "      <td>-0.500000</td>\n",
       "      <td>-0.100000</td>\n",
       "      <td>0.200000</td>\n",
       "      <td>0.000000</td>\n",
       "      <td>0.500000</td>\n",
       "      <td>0.016667</td>\n",
       "      <td>0.500000</td>\n",
       "    </tr>\n",
       "    <tr>\n",
       "      <th>75%</th>\n",
       "      <td>544.250000</td>\n",
       "      <td>12.000000</td>\n",
       "      <td>719.000000</td>\n",
       "      <td>0.614980</td>\n",
       "      <td>1.000000</td>\n",
       "      <td>0.756237</td>\n",
       "      <td>15.000000</td>\n",
       "      <td>4.000000</td>\n",
       "      <td>7.000000</td>\n",
       "      <td>1.000000</td>\n",
       "      <td>...</td>\n",
       "      <td>0.100000</td>\n",
       "      <td>1.000000</td>\n",
       "      <td>-0.191273</td>\n",
       "      <td>-0.300000</td>\n",
       "      <td>-0.050000</td>\n",
       "      <td>0.500000</td>\n",
       "      <td>0.166667</td>\n",
       "      <td>0.500000</td>\n",
       "      <td>0.250000</td>\n",
       "      <td>1.000000</td>\n",
       "    </tr>\n",
       "    <tr>\n",
       "      <th>max</th>\n",
       "      <td>731.000000</td>\n",
       "      <td>19.000000</td>\n",
       "      <td>8474.000000</td>\n",
       "      <td>0.967742</td>\n",
       "      <td>1.000000</td>\n",
       "      <td>1.000000</td>\n",
       "      <td>304.000000</td>\n",
       "      <td>116.000000</td>\n",
       "      <td>111.000000</td>\n",
       "      <td>91.000000</td>\n",
       "      <td>...</td>\n",
       "      <td>1.000000</td>\n",
       "      <td>1.000000</td>\n",
       "      <td>0.000000</td>\n",
       "      <td>0.000000</td>\n",
       "      <td>0.000000</td>\n",
       "      <td>1.000000</td>\n",
       "      <td>1.000000</td>\n",
       "      <td>0.500000</td>\n",
       "      <td>1.000000</td>\n",
       "      <td>1.000000</td>\n",
       "    </tr>\n",
       "  </tbody>\n",
       "</table>\n",
       "<p>8 rows × 60 columns</p>\n",
       "</div>"
      ],
      "text/plain": [
       "         timedelta  n_tokens_title  n_tokens_content  n_unique_tokens  \\\n",
       "count  6000.000000     6000.000000       6000.000000      6000.000000   \n",
       "mean    358.138833       10.368667        547.428833         0.527732   \n",
       "std     210.734614        2.106140        510.232776         0.148356   \n",
       "min       9.000000        3.000000          0.000000         0.000000   \n",
       "25%     175.000000        9.000000        231.000000         0.465950   \n",
       "50%     345.000000       10.000000        391.000000         0.541477   \n",
       "75%     544.250000       12.000000        719.000000         0.614980   \n",
       "max     731.000000       19.000000       8474.000000         0.967742   \n",
       "\n",
       "       n_non_stop_words  n_non_stop_unique_tokens    num_hrefs  \\\n",
       "count       6000.000000               6000.000000  6000.000000   \n",
       "mean           0.961333                  0.665823    11.874000   \n",
       "std            0.192815                  0.167740    13.444103   \n",
       "min            0.000000                  0.000000     0.000000   \n",
       "25%            1.000000                  0.619624     4.000000   \n",
       "50%            1.000000                  0.689119     8.000000   \n",
       "75%            1.000000                  0.756237    15.000000   \n",
       "max            1.000000                  1.000000   304.000000   \n",
       "\n",
       "       num_self_hrefs     num_imgs   num_videos  ...  min_positive_polarity  \\\n",
       "count     6000.000000  6000.000000  6000.000000  ...            6000.000000   \n",
       "mean         3.272500     4.954667     1.463167  ...               0.097194   \n",
       "std          4.262895     8.635916     4.508144  ...               0.076585   \n",
       "min          0.000000     0.000000     0.000000  ...               0.000000   \n",
       "25%          1.000000     1.000000     0.000000  ...               0.050000   \n",
       "50%          2.000000     1.000000     0.000000  ...               0.100000   \n",
       "75%          4.000000     7.000000     1.000000  ...               0.100000   \n",
       "max        116.000000   111.000000    91.000000  ...               1.000000   \n",
       "\n",
       "       max_positive_polarity  avg_negative_polarity  min_negative_polarity  \\\n",
       "count            6000.000000            6000.000000            6000.000000   \n",
       "mean                0.762009              -0.265334              -0.530531   \n",
       "std                 0.256845               0.133800               0.294477   \n",
       "min                 0.000000              -1.000000              -1.000000   \n",
       "25%                 0.600000              -0.340000              -0.714286   \n",
       "50%                 0.800000              -0.260185              -0.500000   \n",
       "75%                 1.000000              -0.191273              -0.300000   \n",
       "max                 1.000000               0.000000               0.000000   \n",
       "\n",
       "       max_negative_polarity  title_subjectivity  title_sentiment_polarity  \\\n",
       "count            6000.000000         6000.000000               6000.000000   \n",
       "mean               -0.110047            0.296854                  0.077178   \n",
       "std                 0.100482            0.334117                  0.282790   \n",
       "min                -1.000000            0.000000                 -1.000000   \n",
       "25%                -0.125000            0.000000                  0.000000   \n",
       "50%                -0.100000            0.200000                  0.000000   \n",
       "75%                -0.050000            0.500000                  0.166667   \n",
       "max                 0.000000            1.000000                  1.000000   \n",
       "\n",
       "       abs_title_subjectivity  abs_title_sentiment_polarity      Popular  \n",
       "count             6000.000000                   6000.000000  6000.000000  \n",
       "mean                 0.343496                      0.167633     0.500000  \n",
       "std                  0.186815                      0.240462     0.500042  \n",
       "min                  0.000000                      0.000000     0.000000  \n",
       "25%                  0.166667                      0.000000     0.000000  \n",
       "50%                  0.500000                      0.016667     0.500000  \n",
       "75%                  0.500000                      0.250000     1.000000  \n",
       "max                  0.500000                      1.000000     1.000000  \n",
       "\n",
       "[8 rows x 60 columns]"
      ]
     },
     "execution_count": 41,
     "metadata": {},
     "output_type": "execute_result"
    }
   ],
   "source": [
    "df.describe()"
   ]
  },
  {
   "cell_type": "code",
   "execution_count": 42,
   "metadata": {},
   "outputs": [],
   "source": [
    "# Definición variable de interes y variables predictoras\n",
    "X = df.drop(['url', 'Popular'], axis=1)\n",
    "y = df['Popular']\n",
    "\n",
    "# División de la muestra en set de entrenamiento y prueba\n",
    "X_train, X_test, y_train, y_test = train_test_split(X, y, random_state=1)"
   ]
  },
  {
   "cell_type": "code",
   "execution_count": 43,
   "metadata": {},
   "outputs": [
    {
     "name": "stdout",
     "output_type": "stream",
     "text": [
      "Filas y columnas de base de datos: (6000, 59)\n",
      "Filas y columnas de XTrain: (4500, 59)\n",
      "Filas y columnas de XTest: (1500, 59)\n",
      "Filas y columnas de yTrain: (4500,)\n",
      "Filas y columnas de yTest: (1500,)\n"
     ]
    }
   ],
   "source": [
    "# Celda 6\n",
    "print('Filas y columnas de base de datos:',X.shape)\n",
    "print('Filas y columnas de XTrain:',X_train.shape)\n",
    "print('Filas y columnas de XTest:',X_test.shape)\n",
    "print('Filas y columnas de yTrain:',y_train.shape)\n",
    "print('Filas y columnas de yTest:',y_test.shape)"
   ]
  },
  {
   "cell_type": "code",
   "execution_count": null,
   "metadata": {},
   "outputs": [],
   "source": []
  },
  {
   "cell_type": "markdown",
   "metadata": {},
   "source": [
    "### Punto 6 - Árbol de decisión y regresión logística\n",
    "En la celda 6 construya un árbol de decisión y una regresión logística. Para el árbol calibre al menos un parámetro y evalúe el desempeño de cada modelo usando las métricas de Accuracy y F1-Score."
   ]
  },
  {
   "cell_type": "markdown",
   "metadata": {},
   "source": [
    "#### Árbol de decisión "
   ]
  },
  {
   "cell_type": "code",
   "execution_count": 44,
   "metadata": {},
   "outputs": [
    {
     "data": {
      "text/html": [
       "<style>#sk-container-id-3 {color: black;background-color: white;}#sk-container-id-3 pre{padding: 0;}#sk-container-id-3 div.sk-toggleable {background-color: white;}#sk-container-id-3 label.sk-toggleable__label {cursor: pointer;display: block;width: 100%;margin-bottom: 0;padding: 0.3em;box-sizing: border-box;text-align: center;}#sk-container-id-3 label.sk-toggleable__label-arrow:before {content: \"▸\";float: left;margin-right: 0.25em;color: #696969;}#sk-container-id-3 label.sk-toggleable__label-arrow:hover:before {color: black;}#sk-container-id-3 div.sk-estimator:hover label.sk-toggleable__label-arrow:before {color: black;}#sk-container-id-3 div.sk-toggleable__content {max-height: 0;max-width: 0;overflow: hidden;text-align: left;background-color: #f0f8ff;}#sk-container-id-3 div.sk-toggleable__content pre {margin: 0.2em;color: black;border-radius: 0.25em;background-color: #f0f8ff;}#sk-container-id-3 input.sk-toggleable__control:checked~div.sk-toggleable__content {max-height: 200px;max-width: 100%;overflow: auto;}#sk-container-id-3 input.sk-toggleable__control:checked~label.sk-toggleable__label-arrow:before {content: \"▾\";}#sk-container-id-3 div.sk-estimator input.sk-toggleable__control:checked~label.sk-toggleable__label {background-color: #d4ebff;}#sk-container-id-3 div.sk-label input.sk-toggleable__control:checked~label.sk-toggleable__label {background-color: #d4ebff;}#sk-container-id-3 input.sk-hidden--visually {border: 0;clip: rect(1px 1px 1px 1px);clip: rect(1px, 1px, 1px, 1px);height: 1px;margin: -1px;overflow: hidden;padding: 0;position: absolute;width: 1px;}#sk-container-id-3 div.sk-estimator {font-family: monospace;background-color: #f0f8ff;border: 1px dotted black;border-radius: 0.25em;box-sizing: border-box;margin-bottom: 0.5em;}#sk-container-id-3 div.sk-estimator:hover {background-color: #d4ebff;}#sk-container-id-3 div.sk-parallel-item::after {content: \"\";width: 100%;border-bottom: 1px solid gray;flex-grow: 1;}#sk-container-id-3 div.sk-label:hover label.sk-toggleable__label {background-color: #d4ebff;}#sk-container-id-3 div.sk-serial::before {content: \"\";position: absolute;border-left: 1px solid gray;box-sizing: border-box;top: 0;bottom: 0;left: 50%;z-index: 0;}#sk-container-id-3 div.sk-serial {display: flex;flex-direction: column;align-items: center;background-color: white;padding-right: 0.2em;padding-left: 0.2em;position: relative;}#sk-container-id-3 div.sk-item {position: relative;z-index: 1;}#sk-container-id-3 div.sk-parallel {display: flex;align-items: stretch;justify-content: center;background-color: white;position: relative;}#sk-container-id-3 div.sk-item::before, #sk-container-id-3 div.sk-parallel-item::before {content: \"\";position: absolute;border-left: 1px solid gray;box-sizing: border-box;top: 0;bottom: 0;left: 50%;z-index: -1;}#sk-container-id-3 div.sk-parallel-item {display: flex;flex-direction: column;z-index: 1;position: relative;background-color: white;}#sk-container-id-3 div.sk-parallel-item:first-child::after {align-self: flex-end;width: 50%;}#sk-container-id-3 div.sk-parallel-item:last-child::after {align-self: flex-start;width: 50%;}#sk-container-id-3 div.sk-parallel-item:only-child::after {width: 0;}#sk-container-id-3 div.sk-dashed-wrapped {border: 1px dashed gray;margin: 0 0.4em 0.5em 0.4em;box-sizing: border-box;padding-bottom: 0.4em;background-color: white;}#sk-container-id-3 div.sk-label label {font-family: monospace;font-weight: bold;display: inline-block;line-height: 1.2em;}#sk-container-id-3 div.sk-label-container {text-align: center;}#sk-container-id-3 div.sk-container {/* jupyter's `normalize.less` sets `[hidden] { display: none; }` but bootstrap.min.css set `[hidden] { display: none !important; }` so we also need the `!important` here to be able to override the default hidden behavior on the sphinx rendered scikit-learn.org. See: https://github.com/scikit-learn/scikit-learn/issues/21755 */display: inline-block !important;position: relative;}#sk-container-id-3 div.sk-text-repr-fallback {display: none;}</style><div id=\"sk-container-id-3\" class=\"sk-top-container\"><div class=\"sk-text-repr-fallback\"><pre>DecisionTreeClassifier()</pre><b>In a Jupyter environment, please rerun this cell to show the HTML representation or trust the notebook. <br />On GitHub, the HTML representation is unable to render, please try loading this page with nbviewer.org.</b></div><div class=\"sk-container\" hidden><div class=\"sk-item\"><div class=\"sk-estimator sk-toggleable\"><input class=\"sk-toggleable__control sk-hidden--visually\" id=\"sk-estimator-id-3\" type=\"checkbox\" checked><label for=\"sk-estimator-id-3\" class=\"sk-toggleable__label sk-toggleable__label-arrow\">DecisionTreeClassifier</label><div class=\"sk-toggleable__content\"><pre>DecisionTreeClassifier()</pre></div></div></div></div></div>"
      ],
      "text/plain": [
       "DecisionTreeClassifier()"
      ]
     },
     "execution_count": 44,
     "metadata": {},
     "output_type": "execute_result"
    }
   ],
   "source": [
    "clfTree = DecisionTreeClassifier()\n",
    "clfTree.fit(X_train, y_train)"
   ]
  },
  {
   "cell_type": "code",
   "execution_count": 45,
   "metadata": {},
   "outputs": [
    {
     "data": {
      "image/png": "[encoded data removed]",
      "text/plain": [
       "<Figure size 640x480 with 1 Axes>"
      ]
     },
     "metadata": {},
     "output_type": "display_data"
    },
    {
     "name": "stdout",
     "output_type": "stream",
     "text": [
      "El MSE del modelo en la muestra de evaluación es igual a:\n",
      "0.4553333333333333\n"
     ]
    }
   ],
   "source": [
    "prediccionTree=clfTree.predict_proba(X_test)[:,0]\n",
    "fpr, tpr, thresholds = metrics.roc_curve(y_test, prediccionTree, pos_label=0)\n",
    "AUCTree=metrics.auc(fpr, tpr)\n",
    "plt.title('Receiver Operating Characteristic')\n",
    "plt.plot(fpr, tpr, 'b', label = 'AUC = %0.2f' % AUCTree)\n",
    "plt.legend(loc = 'lower right')\n",
    "plt.plot([0, 1], [0, 1],'r--')\n",
    "plt.xlim([-0.01, 1])\n",
    "plt.ylim([0, 1.05])\n",
    "plt.ylabel('True Positive Rate')\n",
    "plt.xlabel('False Positive Rate')\n",
    "plt.show()\n",
    "\n",
    "prediccion=clfTree.predict(X_test)\n",
    "MSEArbol=np.average(np.square(prediccion-y_test))\n",
    "print(\"El MSE del modelo en la muestra de evaluación es igual a:\")\n",
    "print(MSEArbol)\n"
   ]
  },
  {
   "cell_type": "code",
   "execution_count": 46,
   "metadata": {},
   "outputs": [
    {
     "name": "stdout",
     "output_type": "stream",
     "text": [
      "Best: 0.630889 using {'max_depth': 1, 'min_samples_leaf': 1}\n"
     ]
    }
   ],
   "source": [
    "model_DD = DecisionTreeClassifier()\n",
    " \n",
    "max_depth = range(1,10,1)\n",
    "min_samples_leaf = range(1,10,2)\n",
    "tuned_parameters = dict(max_depth=max_depth, min_samples_leaf=min_samples_leaf)\n",
    " \n",
    "from sklearn.model_selection import GridSearchCV\n",
    "DD = GridSearchCV(model_DD, tuned_parameters,cv=10)\n",
    "DD.fit(X_train, y_train)\n",
    " \n",
    "print(\"Best: %f using %s\" % (DD.best_score_, DD.best_params_))"
   ]
  },
  {
   "cell_type": "code",
   "execution_count": 47,
   "metadata": {},
   "outputs": [
    {
     "data": {
      "text/plain": [
       "(1500,)"
      ]
     },
     "execution_count": 47,
     "metadata": {},
     "output_type": "execute_result"
    }
   ],
   "source": [
    "y_pred=clfTree.predict(X_test)\n",
    "y_pred.shape"
   ]
  },
  {
   "cell_type": "code",
   "execution_count": 48,
   "metadata": {},
   "outputs": [
    {
     "data": {
      "text/plain": [
       "1483    0\n",
       "2185    1\n",
       "2520    0\n",
       "3721    1\n",
       "3727    0\n",
       "       ..\n",
       "3077    0\n",
       "5166    1\n",
       "2227    1\n",
       "5684    1\n",
       "1937    0\n",
       "Name: Popular, Length: 1500, dtype: int64"
      ]
     },
     "execution_count": 48,
     "metadata": {},
     "output_type": "execute_result"
    }
   ],
   "source": [
    "y_test"
   ]
  },
  {
   "cell_type": "code",
   "execution_count": 49,
   "metadata": {},
   "outputs": [
    {
     "data": {
      "text/plain": [
       "(1500,)"
      ]
     },
     "execution_count": 49,
     "metadata": {},
     "output_type": "execute_result"
    }
   ],
   "source": [
    "y_pred.shape"
   ]
  },
  {
   "cell_type": "code",
   "execution_count": 50,
   "metadata": {},
   "outputs": [
    {
     "name": "stdout",
     "output_type": "stream",
     "text": [
      "Precisión del modelo:\n",
      "0.5488621151271754\n",
      "accuracy_score = 0.5446666666666666\n",
      "f1_score = 0.5455755156353959\n"
     ]
    }
   ],
   "source": [
    "tn, fp, fn, tp = confusion_matrix(y_test, y_pred).ravel()\n",
    "precision = precision_score(y_test, y_pred)\n",
    "print('Precisión del modelo:')\n",
    "print(precision)\n",
    "\n",
    "print(\"accuracy_score =\", accuracy_score(y_test, y_pred))\n",
    "print(\"f1_score =\",f1_score(y_test, y_pred))\n"
   ]
  },
  {
   "cell_type": "code",
   "execution_count": null,
   "metadata": {},
   "outputs": [],
   "source": []
  },
  {
   "cell_type": "markdown",
   "metadata": {},
   "source": [
    "#### Regresión logística"
   ]
  },
  {
   "cell_type": "code",
   "execution_count": 51,
   "metadata": {},
   "outputs": [
    {
     "name": "stdout",
     "output_type": "stream",
     "text": [
      "Matriz de Confusión:\n",
      "[[501 243]\n",
      " [297 459]]\n",
      "accuracy_score = 0.64\n",
      "f1_score = 0.6296296296296297\n",
      "Precisión del modelo:\n",
      "0.6538461538461539\n"
     ]
    }
   ],
   "source": [
    "X = df.drop(['url', 'Popular'], axis=1)\n",
    "y = df['Popular']\n",
    "y.mean()\n",
    "\n",
    "# División de la muestra en set de entrenamiento y prueba\n",
    "from sklearn.model_selection import train_test_split\n",
    "X_train1, X_test1, y_train1, y_test1 = train_test_split(X, y, random_state=1)\n",
    "\n",
    "escalar = StandardScaler()\n",
    "X_train1 = escalar.fit_transform(X_train1)\n",
    "X_test1 = escalar.transform(X_test1)\n",
    "\n",
    "algoritmo = LogisticRegression()\n",
    "#Entrenamos el modelo\n",
    "algoritmo.fit(X_train1, y_train1)\n",
    "\n",
    "#Realizamos una predicción\n",
    "y_pred1= algoritmo.predict(X_test1)\n",
    "\n",
    "#Verifico la matriz de Confusión\n",
    "matriz = confusion_matrix(y_test1, y_pred1)\n",
    "print('Matriz de Confusión:')\n",
    "print(matriz)\n",
    "\n",
    "tn, fp, fn, tp = confusion_matrix(y_test1, y_pred1).ravel()\n",
    "\n",
    "print(\"accuracy_score =\", accuracy_score(y_test1, y_pred1))\n",
    "print(\"f1_score =\",f1_score(y_test1, y_pred1))\n",
    "\n",
    "\n",
    "#Calculo la precisión del modelo\n",
    "\n",
    "\n",
    "precision = precision_score(y_test1, y_pred1)\n",
    "print('Precisión del modelo:')\n",
    "print(precision)\n",
    "\n"
   ]
  },
  {
   "cell_type": "code",
   "execution_count": 52,
   "metadata": {},
   "outputs": [
    {
     "data": {
      "text/plain": [
       "1483    0\n",
       "2185    1\n",
       "2520    0\n",
       "3721    1\n",
       "3727    0\n",
       "       ..\n",
       "3077    0\n",
       "5166    1\n",
       "2227    1\n",
       "5684    1\n",
       "1937    0\n",
       "Name: Popular, Length: 1500, dtype: int64"
      ]
     },
     "execution_count": 52,
     "metadata": {},
     "output_type": "execute_result"
    }
   ],
   "source": [
    "y_test1"
   ]
  },
  {
   "cell_type": "code",
   "execution_count": 53,
   "metadata": {},
   "outputs": [
    {
     "data": {
      "text/plain": [
       "array([1, 1, 1, ..., 1, 0, 0], dtype=int64)"
      ]
     },
     "execution_count": 53,
     "metadata": {},
     "output_type": "execute_result"
    }
   ],
   "source": [
    "y_pred1"
   ]
  },
  {
   "cell_type": "markdown",
   "metadata": {},
   "source": [
    "### Comparacion de modelos\n",
    "\n",
    " <font color='green'> Arbol</font>\n",
    "\n",
    "Precisión del modelo:\n",
    "0.5526675786593708\n",
    "\n",
    "accuracy_score = 0.5473333333333333\n",
    "\n",
    "f1_score = 0.543375924680565\n",
    "\n",
    "\n",
    "\n",
    " <font color='green'>R. log</font>\n",
    "\n",
    "Precisión del modelo:\n",
    "0.6538461538461539\n",
    "\n",
    "accuracy_score = 0.64\n",
    "\n",
    "f1_score = 0.6296296296296297\n",
    "\n",
    "\n",
    "\n",
    " <font color='green'> **Se puede observar que EL modelo de Regresion logistica tiene mejor desempeño que el arbol**</font>\n",
    "\n"
   ]
  },
  {
   "cell_type": "code",
   "execution_count": null,
   "metadata": {},
   "outputs": [],
   "source": []
  },
  {
   "cell_type": "markdown",
   "metadata": {},
   "source": [
    "### Punto 7 - Votación Mayoritaria\n",
    "En la celda 7 elabore un esamble con la metodología de **Votación mayoritaria** compuesto por 300 muestras bagged para cada uno de los siguientes escenarios:\n",
    "\n",
    "-100 árboles de decisión donde max_depth tome un valor de su elección\\\n",
    "-100 árboles de decisión donde min_samples_leaf tome un valor de su elección\\\n",
    "-100 regresiones logísticas\n",
    "\n",
    "Evalúe cada uno de los tres modelos de manera independiente utilizando las métricas de Accuracy y F1-Score, luego evalúe el ensamble de modelos y compare los resultados. "
   ]
  },
  {
   "cell_type": "code",
   "execution_count": 54,
   "metadata": {},
   "outputs": [
    {
     "name": "stdout",
     "output_type": "stream",
     "text": [
      "Filas y columnas de base de datos: (1000, 10)\n",
      "Filas y columnas de XTrain: (800, 10)\n",
      "Filas y columnas de XTest: (200, 10)\n",
      "Filas y columnas de yTrain: (800,)\n",
      "Filas y columnas de yTest: (200,)\n"
     ]
    }
   ],
   "source": [
    "from sklearn.datasets import make_classification\n",
    "from sklearn.model_selection import train_test_split\n",
    "from sklearn.tree import DecisionTreeClassifier\n",
    "from sklearn.linear_model import LogisticRegression\n",
    "from sklearn.ensemble import BaggingClassifier, VotingClassifier\n",
    "from sklearn.metrics import accuracy_score, f1_score\n",
    "\n",
    "\n",
    "# Generar datos sintéticos\n",
    "X, y = make_classification(n_samples=1000, n_features=10, n_informative=5, random_state=42)\n",
    "\n",
    "# Dividir los datos en un conjunto de entrenamiento y un conjunto de prueba\n",
    "X_train, X_test, y_train, y_test = train_test_split(X, y, test_size=0.2, random_state=42)\n",
    "\n",
    "print('Filas y columnas de base de datos:',X.shape)\n",
    "print('Filas y columnas de XTrain:',X_train.shape)\n",
    "print('Filas y columnas de XTest:',X_test.shape)\n",
    "print('Filas y columnas de yTrain:',y_train.shape)\n",
    "print('Filas y columnas de yTest:',y_test.shape)"
   ]
  },
  {
   "cell_type": "code",
   "execution_count": 55,
   "metadata": {},
   "outputs": [],
   "source": [
    "# Crear modelos base\n",
    "tree_model_1 = DecisionTreeClassifier(max_depth=3, random_state=42)\n",
    "tree_model_2 = DecisionTreeClassifier(min_samples_leaf=5, random_state=42)\n",
    "logistic_model = LogisticRegression(random_state=42)\n",
    "\n",
    "# Crear modelos bagged\n",
    "n_estimators = 100\n",
    "tree_bagging_1 = BaggingClassifier(tree_model_1, n_estimators=n_estimators, random_state=42)\n",
    "tree_bagging_2 = BaggingClassifier(tree_model_2, n_estimators=n_estimators, random_state=42)\n",
    "logistic_bagging = BaggingClassifier(logistic_model, n_estimators=n_estimators, random_state=42)"
   ]
  },
  {
   "cell_type": "code",
   "execution_count": 56,
   "metadata": {},
   "outputs": [],
   "source": [
    "# Entrenar modelos bagged y evaluar su desempeño en el conjunto de prueba\n",
    "tree_bagging_1.fit(X_train, y_train)\n",
    "y_pred_tree_1 = tree_bagging_1.predict(X_test)\n",
    "acc_tree_1 = accuracy_score(y_test, y_pred_tree_1)\n",
    "f1_tree_1 = f1_score(y_test, y_pred_tree_1)\n",
    "\n",
    "tree_bagging_2.fit(X_train, y_train)\n",
    "y_pred_tree_2 = tree_bagging_2.predict(X_test)\n",
    "acc_tree_2 = accuracy_score(y_test, y_pred_tree_2)\n",
    "f1_tree_2 = f1_score(y_test, y_pred_tree_2)\n",
    "\n",
    "logistic_bagging.fit(X_train, y_train)\n",
    "y_pred_logistic = logistic_bagging.predict(X_test)\n",
    "acc_logistic = accuracy_score(y_test, y_pred_logistic)\n",
    "f1_logistic = f1_score(y_test, y_pred_logistic)\n",
    "\n"
   ]
  },
  {
   "cell_type": "code",
   "execution_count": 57,
   "metadata": {},
   "outputs": [
    {
     "name": "stdout",
     "output_type": "stream",
     "text": [
      "accuracy_score1 = 0.95\n",
      "accuracy_score2 = 0.955\n",
      "accuracy_score3 = 0.84\n",
      "\n",
      "f1_score1 = 0.9444444444444444\n",
      "f1_score2 = 0.9497206703910613\n",
      "f1_score3 = 0.8181818181818182\n"
     ]
    }
   ],
   "source": [
    "print(\"accuracy_score1 =\",acc_tree_1)\n",
    "print(\"accuracy_score2 =\",acc_tree_2 )\n",
    "print(\"accuracy_score3 =\",acc_logistic )\n",
    "\n",
    "print(\"\" )\n",
    "print(\"f1_score1 =\",f1_tree_1 )\n",
    "print(\"f1_score2 =\",f1_tree_2 )\n",
    "print(\"f1_score3 =\",f1_logistic )"
   ]
  },
  {
   "cell_type": "code",
   "execution_count": 58,
   "metadata": {},
   "outputs": [
    {
     "data": {
      "text/plain": [
       "(0.9392265193370166, 0.945)"
      ]
     },
     "execution_count": 58,
     "metadata": {},
     "output_type": "execute_result"
    }
   ],
   "source": [
    "# Crear el ensamble y evaluar su desempeño en el conjunto de prueba\n",
    "ensemble = VotingClassifier(estimators=[\n",
    "    ('tree_1', tree_bagging_1),\n",
    "    ('tree_2', tree_bagging_2),\n",
    "    ('logistic', logistic_bagging)\n",
    "], voting='hard')\n",
    "\n",
    "\n",
    "ensemble.fit(X_train, y_train)\n",
    "y_pred_ensemble = ensemble.predict(X_test)\n",
    "metrics.f1_score(y_pred_ensemble, y_test), metrics.accuracy_score(y_pred_ensemble, y_test)\n",
    "\n",
    "\n",
    "#ensemble.fit(X_train, y_train)\n",
    "#y_pred_ensemble = ensemble.predict(X_test)\n",
    "#acc_tree_ens = accuracy_score(y_test, y_pred_ensemble)\n",
    "#f1_tree_ens = f1_score(y_test, y_pred_ensemble)"
   ]
  },
  {
   "cell_type": "code",
   "execution_count": 60,
   "metadata": {},
   "outputs": [
    {
     "name": "stdout",
     "output_type": "stream",
     "text": [
      "accuracy_score_ens = 0.945\n",
      "f1_score_ens = 0.9392265193370166\n"
     ]
    }
   ],
   "source": [
    "print(\"accuracy_score_ens =\",metrics.accuracy_score(y_pred_ensemble, y_test))\n",
    "print(\"f1_score_ens =\",metrics.f1_score(y_pred_ensemble, y_test) )"
   ]
  },
  {
   "cell_type": "markdown",
   "metadata": {},
   "source": [
    "### Comparacion de modelos\n",
    "\n",
    " <font color='blue'> Votación Mayoritaria</font>\n",
    "\n",
    "accuracy_score1 = 0.95\n",
    "\n",
    "accuracy_score2 = 0.955\n",
    "\n",
    "accuracy_score3 = 0.84\n",
    "\n",
    "f1_score1 = 0.9444444444444444\n",
    "\n",
    "f1_score2 = 0.9497206703910613\n",
    "\n",
    "f1_score3 = 0.8181818181818182\n",
    "\n",
    "<font color='green'> *De los tres modelos el que mejor desempeño tiene es el modelo 2 generado con min_samples_leaf* </font>\n",
    "\n",
    " <font color='blue'>Ensamble</font>\n",
    "\n",
    "accuracy_score_ens = 0.945\n",
    "\n",
    "f1_score_ens = 0.9392265193370166\n",
    "\n",
    "\n",
    "\n",
    " <font color='green'> *el ensamblaje de estos tres modelos no tiene un mejor desempeño que el modelo 2*</font>"
   ]
  },
  {
   "cell_type": "code",
   "execution_count": null,
   "metadata": {},
   "outputs": [],
   "source": []
  },
  {
   "cell_type": "markdown",
   "metadata": {},
   "source": [
    "### Punto 8 - Votación Ponderada\n",
    "En la celda 8 elabore un ensamble con la metodología de **Votación ponderada** compuesto por 300 muestras bagged para los mismos tres escenarios del punto 7. Evalúe los modelos utilizando las métricas de Accuracy y F1-Score"
   ]
  },
  {
   "cell_type": "code",
   "execution_count": 61,
   "metadata": {},
   "outputs": [
    {
     "data": {
      "text/plain": [
       "(0.96045197740113, 0.965)"
      ]
     },
     "execution_count": 61,
     "metadata": {},
     "output_type": "execute_result"
    }
   ],
   "source": [
    "# Celda 8\n",
    "# Definición del modelo BaggingClassifier de la libreria sklearn\n",
    "clf = BaggingClassifier(base_estimator=DecisionTreeClassifier(), n_estimators=100, bootstrap=True,\n",
    "                        random_state=42, n_jobs=-1, oob_score=True)\n",
    "\n",
    "# Predicción y desempeño al hacer votación mayoritaria\n",
    "clf.fit(X_train, y_train)\n",
    "y_pred = clf.predict(X_test)\n",
    "metrics.f1_score(y_pred, y_test), metrics.accuracy_score(y_pred, y_test)"
   ]
  },
  {
   "cell_type": "code",
   "execution_count": 62,
   "metadata": {},
   "outputs": [
    {
     "name": "stdout",
     "output_type": "stream",
     "text": [
      "accuracy_score = 0.965\n",
      "f1_score = 0.96045197740113\n"
     ]
    }
   ],
   "source": [
    "print(\"accuracy_score =\",metrics.accuracy_score(y_pred, y_test))\n",
    "print(\"f1_score =\",metrics.f1_score(y_pred, y_test) )"
   ]
  },
  {
   "cell_type": "markdown",
   "metadata": {},
   "source": [
    "### Punto 9 - Comparación y análisis de resultados\n",
    "En la celda 9 comente sobre los resultados obtenidos con las metodologías usadas en los puntos 7 y 8, compare los resultados y enuncie posibles ventajas o desventajas de cada una de ellas."
   ]
  },
  {
   "cell_type": "markdown",
   "metadata": {},
   "source": [
    "# Celda 9\n",
    "\n",
    "### Comparacion de modelos\n",
    "\n",
    " <font color='blue'> Votación Mayoritaria</font>\n",
    "\n",
    "accuracy_score_ens = 0.945\n",
    "\n",
    "f1_score_ens = 0.9392265193370166\n",
    "\n",
    " <font color='blue'> Votación Ponderada</font>\n",
    "\n",
    "\n",
    "accuracy_score = 0.965\n",
    "\n",
    "f1_score = 0.96045197740113\n",
    "\n",
    "\n",
    "\n",
    " <font color='green'> *De los dos metodos de ensamble de votacion el que mejor resultado obtuvo fue el de votacion ponderada ya que este reduce mas el error al combinar varios clasificadores con alta varianza, lo que hace que el error de generalización disminuya también</font>"
   ]
  },
  {
   "cell_type": "code",
   "execution_count": null,
   "metadata": {},
   "outputs": [],
   "source": []
  }
 ],
 "metadata": {
  "kernelspec": {
   "display_name": "Python 3 (ipykernel)",
   "language": "python",
   "name": "python3"
  },
  "language_info": {
   "codemirror_mode": {
    "name": "ipython",
    "version": 3
   },
   "file_extension": ".py",
   "mimetype": "text/x-python",
   "name": "python",
   "nbconvert_exporter": "python",
   "pygments_lexer": "ipython3",
   "version": "3.9.16"
  }
 },
 "nbformat": 4,
 "nbformat_minor": 4
}
